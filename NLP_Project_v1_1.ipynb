{
  "nbformat": 4,
  "nbformat_minor": 0,
  "metadata": {
    "colab": {
      "name": "NLP Project v1.1.ipynb",
      "provenance": [],
      "collapsed_sections": [],
      "include_colab_link": true
    },
    "kernelspec": {
      "display_name": "Python 3",
      "name": "python3"
    }
  },
  "cells": [
    {
      "cell_type": "markdown",
      "metadata": {
        "id": "view-in-github",
        "colab_type": "text"
      },
      "source": [
        "<a href=\"https://colab.research.google.com/github/asifsohailmd/SemEval/blob/main/NLP_Project_v1_1.ipynb\" target=\"_parent\"><img src=\"https://colab.research.google.com/assets/colab-badge.svg\" alt=\"Open In Colab\"/></a>"
      ]
    },
    {
      "cell_type": "code",
      "metadata": {
        "colab": {
          "resources": {
            "http://localhost:8080/nbextensions/google.colab/files.js": {
              "data": "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",
              "ok": true,
              "headers": [
                [
                  "content-type",
                  "application/javascript"
                ]
              ],
              "status": 200,
              "status_text": ""
            }
          },
          "base_uri": "https://localhost:8080/",
          "height": 141
        },
        "id": "0uZWyUQeoxzn",
        "outputId": "48e0f9db-b790-42a5-a386-77b12b3872f2"
      },
      "source": [
        "from google.colab import files\n",
        "\n",
        "uploaded = files.upload()\n",
        "\n",
        "for fn in uploaded.keys():\n",
        "  print('User uploaded file \"{name}\" with length {length} bytes'.format(\n",
        "      name=fn, length=len(uploaded[fn])))"
      ],
      "execution_count": 1,
      "outputs": [
        {
          "output_type": "display_data",
          "data": {
            "text/html": [
              "\n",
              "     <input type=\"file\" id=\"files-0f1fa9dc-161d-4e5c-9c51-dbebb43db5ac\" name=\"files[]\" multiple disabled\n",
              "        style=\"border:none\" />\n",
              "     <output id=\"result-0f1fa9dc-161d-4e5c-9c51-dbebb43db5ac\">\n",
              "      Upload widget is only available when the cell has been executed in the\n",
              "      current browser session. Please rerun this cell to enable.\n",
              "      </output>\n",
              "      <script src=\"/nbextensions/google.colab/files.js\"></script> "
            ],
            "text/plain": [
              "<IPython.core.display.HTML object>"
            ]
          },
          "metadata": {
            "tags": []
          }
        },
        {
          "output_type": "stream",
          "text": [
            "Saving semeval_test.txt to semeval_test.txt\n",
            "Saving semeval_train.txt to semeval_train.txt\n",
            "User uploaded file \"semeval_test.txt\" with length 418243 bytes\n",
            "User uploaded file \"semeval_train.txt\" with length 1235657 bytes\n"
          ],
          "name": "stdout"
        }
      ]
    },
    {
      "cell_type": "code",
      "metadata": {
        "colab": {
          "base_uri": "https://localhost:8080/"
        },
        "id": "X3ynPpxoohag",
        "outputId": "e5fa66b3-7e6e-4873-995b-0facb9c0b6db"
      },
      "source": [
        "import pandas as pd\n",
        "import seaborn as sns\n",
        "import matplotlib.pyplot as plt\n",
        "import re\n",
        "\n",
        "import spacy\n",
        "nlp = spacy.load(\"en_core_web_sm\")\n",
        "from IPython.core.display import display, HTML\n",
        "from spacy import displacy\n",
        "import networkx as nx\n",
        "\n",
        "import nltk\n",
        "from nltk.tokenize import word_tokenize\n",
        "from nltk.tag import pos_tag\n",
        "from nltk.corpus import wordnet\n",
        "from nltk.stem.porter import *\n",
        "nltk.download('wordnet')\n",
        "\n",
        "from sklearn.feature_extraction import DictVectorizer"
      ],
      "execution_count": 2,
      "outputs": [
        {
          "output_type": "stream",
          "text": [
            "[nltk_data] Downloading package wordnet to /root/nltk_data...\n",
            "[nltk_data]   Unzipping corpora/wordnet.zip.\n"
          ],
          "name": "stdout"
        }
      ]
    },
    {
      "cell_type": "code",
      "metadata": {
        "id": "j1Jk4URSU95_"
      },
      "source": [
        "# df = pd.read_csv('EntityRelation.csv')\n",
        "# features = pd.read_csv('Features.csv')\n",
        "# features = pd.read_csv('semeval_Features.csv')"
      ],
      "execution_count": null,
      "outputs": []
    },
    {
      "cell_type": "markdown",
      "metadata": {
        "id": "wBrxiQPBG1kL"
      },
      "source": [
        "**Task 1**\n"
      ]
    },
    {
      "cell_type": "code",
      "metadata": {
        "id": "AGsI5a5Zo-6i"
      },
      "source": [
        "def CorpusReader(filename):\n",
        "  f = open(filename,\"r\")\n",
        "  data = f.readlines()\n",
        "\n",
        "  relations = []\n",
        "  sentences = []\n",
        "  e1 = []\n",
        "  e2 = []\n",
        "\n",
        "  for i in range(len(data)):\n",
        "    if i%4 == 0:\n",
        "      sentences.append(data[i].split('\\t')[1].strip('\\n\\t\\s '))\n",
        "      e1.append(str(re.findall(r'<e.>.*?</e.>', data[i])[0][4:-5].strip()))\n",
        "      e2.append(str(re.findall(r'<e.>.*?</e.>', data[i])[1][4:-5].strip()))\n",
        "    elif i%4 == 1:\n",
        "      relations.append(data[i][:-1])\n",
        "  \n",
        "  df = pd.DataFrame()\n",
        "  # features = pd.DataFrame()\n",
        "  df['Sentence'] = sentences\n",
        "  df['Relation_Direction'] = relations\n",
        "  df['Relation'] = df['Relation_Direction'].apply(lambda x: x if x == 'Other' else x[:-7])\n",
        "  df['Direction'] = df['Relation_Direction'].apply(lambda x: 'ND' if x =='Other' else x[-7:])\n",
        "  df['Entity1'] = e1\n",
        "  df['Entity2'] = e2\n",
        "  df['Sentence'].replace(regex=['<e1>', '</e1>', '<e2>', '</e2>'], value=' ', inplace=True)\n",
        "  df['Sentence'] = df['Sentence'].str.strip('\" ')\n",
        "  df['Sentence'] = df['Sentence'].apply(lambda x: re.sub(' +', ' ', x))\n",
        "  return df"
      ],
      "execution_count": 3,
      "outputs": []
    },
    {
      "cell_type": "code",
      "metadata": {
        "id": "mdr5xskTpDQT"
      },
      "source": [
        "trainDF = CorpusReader(\"semeval_train.txt\")\n",
        "testDF = CorpusReader(\"semeval_test.txt\")"
      ],
      "execution_count": 4,
      "outputs": []
    },
    {
      "cell_type": "code",
      "metadata": {
        "colab": {
          "base_uri": "https://localhost:8080/",
          "height": 351
        },
        "id": "n0qqFO3kLx53",
        "outputId": "f2c4ca8c-9878-4b40-c845-c5209e0a65f7"
      },
      "source": [
        "print(\"Total number of uniqie relations in train data:\", len(trainDF['Relation_Direction'].unique()))\n",
        "plt.figure(figsize=(8,5))\n",
        "plot = sns.countplot(data=trainDF, y='Relation_Direction', order=trainDF.Relation_Direction.value_counts().index)"
      ],
      "execution_count": 5,
      "outputs": [
        {
          "output_type": "stream",
          "text": [
            "Total number of uniqie relations in train data: 19\n"
          ],
          "name": "stdout"
        },
        {
          "output_type": "display_data",
          "data": {
            "image/png": "[encoded data removed]",
            "text/plain": [
              "<Figure size 576x360 with 1 Axes>"
            ]
          },
          "metadata": {
            "tags": [],
            "needs_background": "light"
          }
        }
      ]
    },
    {
      "cell_type": "code",
      "metadata": {
        "colab": {
          "base_uri": "https://localhost:8080/",
          "height": 368
        },
        "id": "fMAKl7KhMJJY",
        "outputId": "ca0827b2-a47e-4b6a-cade-115ce490eb57"
      },
      "source": [
        "print(\"Total number of uniqie relations in train data without direction:\", len(trainDF['Relation'].unique()))\n",
        "plt.figure(figsize=(8,5))\n",
        "sns.countplot(data=trainDF, y='Relation', order=trainDF.Relation.value_counts().index)"
      ],
      "execution_count": 6,
      "outputs": [
        {
          "output_type": "stream",
          "text": [
            "Total number of uniqie relations in train data without direction: 10\n"
          ],
          "name": "stdout"
        },
        {
          "output_type": "execute_result",
          "data": {
            "text/plain": [
              "<matplotlib.axes._subplots.AxesSubplot at 0x7f041d0614e0>"
            ]
          },
          "metadata": {
            "tags": []
          },
          "execution_count": 6
        },
        {
          "output_type": "display_data",
          "data": {
            "image/png": "[encoded data removed]",
            "text/plain": [
              "<Figure size 576x360 with 1 Axes>"
            ]
          },
          "metadata": {
            "tags": [],
            "needs_background": "light"
          }
        }
      ]
    },
    {
      "cell_type": "code",
      "metadata": {
        "colab": {
          "base_uri": "https://localhost:8080/",
          "height": 200
        },
        "id": "Zf2hijHU0vHP",
        "outputId": "a82f9fe9-48aa-48ea-a809-37379455e406"
      },
      "source": [
        "trainDF.head()"
      ],
      "execution_count": 7,
      "outputs": [
        {
          "output_type": "execute_result",
          "data": {
            "text/html": [
              "<div>\n",
              "<style scoped>\n",
              "    .dataframe tbody tr th:only-of-type {\n",
              "        vertical-align: middle;\n",
              "    }\n",
              "\n",
              "    .dataframe tbody tr th {\n",
              "        vertical-align: top;\n",
              "    }\n",
              "\n",
              "    .dataframe thead th {\n",
              "        text-align: right;\n",
              "    }\n",
              "</style>\n",
              "<table border=\"1\" class=\"dataframe\">\n",
              "  <thead>\n",
              "    <tr style=\"text-align: right;\">\n",
              "      <th></th>\n",
              "      <th>Sentence</th>\n",
              "      <th>Relation_Direction</th>\n",
              "      <th>Relation</th>\n",
              "      <th>Direction</th>\n",
              "      <th>Entity1</th>\n",
              "      <th>Entity2</th>\n",
              "    </tr>\n",
              "  </thead>\n",
              "  <tbody>\n",
              "    <tr>\n",
              "      <th>0</th>\n",
              "      <td>The system as described above has its greatest...</td>\n",
              "      <td>Component-Whole(e2,e1)</td>\n",
              "      <td>Component-Whole</td>\n",
              "      <td>(e2,e1)</td>\n",
              "      <td>configuration</td>\n",
              "      <td>elements</td>\n",
              "    </tr>\n",
              "    <tr>\n",
              "      <th>1</th>\n",
              "      <td>The child was carefully wrapped and bound into...</td>\n",
              "      <td>Other</td>\n",
              "      <td>Other</td>\n",
              "      <td>ND</td>\n",
              "      <td>child</td>\n",
              "      <td>cradle</td>\n",
              "    </tr>\n",
              "    <tr>\n",
              "      <th>2</th>\n",
              "      <td>The author of a keygen uses a disassembler to ...</td>\n",
              "      <td>Instrument-Agency(e2,e1)</td>\n",
              "      <td>Instrument-Agency</td>\n",
              "      <td>(e2,e1)</td>\n",
              "      <td>author</td>\n",
              "      <td>disassembler</td>\n",
              "    </tr>\n",
              "    <tr>\n",
              "      <th>3</th>\n",
              "      <td>A misty ridge uprises from the surge .</td>\n",
              "      <td>Other</td>\n",
              "      <td>Other</td>\n",
              "      <td>ND</td>\n",
              "      <td>ridge</td>\n",
              "      <td>surge</td>\n",
              "    </tr>\n",
              "    <tr>\n",
              "      <th>4</th>\n",
              "      <td>The student association is the voice of the un...</td>\n",
              "      <td>Member-Collection(e1,e2)</td>\n",
              "      <td>Member-Collection</td>\n",
              "      <td>(e1,e2)</td>\n",
              "      <td>student</td>\n",
              "      <td>association</td>\n",
              "    </tr>\n",
              "  </tbody>\n",
              "</table>\n",
              "</div>"
            ],
            "text/plain": [
              "                                            Sentence  ...       Entity2\n",
              "0  The system as described above has its greatest...  ...      elements\n",
              "1  The child was carefully wrapped and bound into...  ...        cradle\n",
              "2  The author of a keygen uses a disassembler to ...  ...  disassembler\n",
              "3             A misty ridge uprises from the surge .  ...         surge\n",
              "4  The student association is the voice of the un...  ...   association\n",
              "\n",
              "[5 rows x 6 columns]"
            ]
          },
          "metadata": {
            "tags": []
          },
          "execution_count": 7
        }
      ]
    },
    {
      "cell_type": "code",
      "metadata": {
        "colab": {
          "base_uri": "https://localhost:8080/",
          "height": 200
        },
        "id": "Yi5rCj7GvhMX",
        "outputId": "693b09c5-a108-436f-ae63-0b302aed4b46"
      },
      "source": [
        "testDF.head()"
      ],
      "execution_count": 8,
      "outputs": [
        {
          "output_type": "execute_result",
          "data": {
            "text/html": [
              "<div>\n",
              "<style scoped>\n",
              "    .dataframe tbody tr th:only-of-type {\n",
              "        vertical-align: middle;\n",
              "    }\n",
              "\n",
              "    .dataframe tbody tr th {\n",
              "        vertical-align: top;\n",
              "    }\n",
              "\n",
              "    .dataframe thead th {\n",
              "        text-align: right;\n",
              "    }\n",
              "</style>\n",
              "<table border=\"1\" class=\"dataframe\">\n",
              "  <thead>\n",
              "    <tr style=\"text-align: right;\">\n",
              "      <th></th>\n",
              "      <th>Sentence</th>\n",
              "      <th>Relation_Direction</th>\n",
              "      <th>Relation</th>\n",
              "      <th>Direction</th>\n",
              "      <th>Entity1</th>\n",
              "      <th>Entity2</th>\n",
              "    </tr>\n",
              "  </thead>\n",
              "  <tbody>\n",
              "    <tr>\n",
              "      <th>0</th>\n",
              "      <td>The most common audits were about waste and re...</td>\n",
              "      <td>Message-Topic(e1,e2)</td>\n",
              "      <td>Message-Topic</td>\n",
              "      <td>(e1,e2)</td>\n",
              "      <td>audits</td>\n",
              "      <td>waste</td>\n",
              "    </tr>\n",
              "    <tr>\n",
              "      <th>1</th>\n",
              "      <td>The company fabricates plastic chairs .</td>\n",
              "      <td>Product-Producer(e2,e1)</td>\n",
              "      <td>Product-Producer</td>\n",
              "      <td>(e2,e1)</td>\n",
              "      <td>company</td>\n",
              "      <td>chairs</td>\n",
              "    </tr>\n",
              "    <tr>\n",
              "      <th>2</th>\n",
              "      <td>The school master teaches the lesson with a st...</td>\n",
              "      <td>Instrument-Agency(e2,e1)</td>\n",
              "      <td>Instrument-Agency</td>\n",
              "      <td>(e2,e1)</td>\n",
              "      <td>master</td>\n",
              "      <td>stick</td>\n",
              "    </tr>\n",
              "    <tr>\n",
              "      <th>3</th>\n",
              "      <td>The suspect dumped the dead body into a local ...</td>\n",
              "      <td>Entity-Destination(e1,e2)</td>\n",
              "      <td>Entity-Destination</td>\n",
              "      <td>(e1,e2)</td>\n",
              "      <td>body</td>\n",
              "      <td>reservoir</td>\n",
              "    </tr>\n",
              "    <tr>\n",
              "      <th>4</th>\n",
              "      <td>Avian influenza is an infectious disease of bi...</td>\n",
              "      <td>Cause-Effect(e2,e1)</td>\n",
              "      <td>Cause-Effect</td>\n",
              "      <td>(e2,e1)</td>\n",
              "      <td>influenza</td>\n",
              "      <td>virus</td>\n",
              "    </tr>\n",
              "  </tbody>\n",
              "</table>\n",
              "</div>"
            ],
            "text/plain": [
              "                                            Sentence  ...    Entity2\n",
              "0  The most common audits were about waste and re...  ...      waste\n",
              "1            The company fabricates plastic chairs .  ...     chairs\n",
              "2  The school master teaches the lesson with a st...  ...      stick\n",
              "3  The suspect dumped the dead body into a local ...  ...  reservoir\n",
              "4  Avian influenza is an infectious disease of bi...  ...      virus\n",
              "\n",
              "[5 rows x 6 columns]"
            ]
          },
          "metadata": {
            "tags": []
          },
          "execution_count": 8
        }
      ]
    },
    {
      "cell_type": "code",
      "metadata": {
        "id": "KgF0MraluBc3"
      },
      "source": [
        "# df.to_csv('EntityRelation.csv', index=False)"
      ],
      "execution_count": null,
      "outputs": []
    },
    {
      "cell_type": "markdown",
      "metadata": {
        "id": "3xQA1tpSGTNB"
      },
      "source": [
        "**Task 2**"
      ]
    },
    {
      "cell_type": "code",
      "metadata": {
        "id": "Rv6RuObLxjJ8"
      },
      "source": [
        "# Tokens\n",
        "def get_tokens(sentence):\n",
        "  return [word.text for word in nlp(sentence)]"
      ],
      "execution_count": 9,
      "outputs": []
    },
    {
      "cell_type": "code",
      "metadata": {
        "id": "PoFRQYTNPopq"
      },
      "source": [
        "# Lemmas\n",
        "def get_lemmas(sentence):\n",
        "  return [word.lemma_ for word in nlp(sentence)]"
      ],
      "execution_count": 10,
      "outputs": []
    },
    {
      "cell_type": "code",
      "metadata": {
        "id": "QghbLCfoQwP9"
      },
      "source": [
        "# Penn Treebank POS Tags\n",
        "def get_POS_tags(sentence):\n",
        "  return [word.tag_ for word in nlp(sentence)]"
      ],
      "execution_count": 11,
      "outputs": []
    },
    {
      "cell_type": "markdown",
      "metadata": {
        "id": "UlIr16t75Ye_"
      },
      "source": [
        "Dependency Parse Tree Features"
      ]
    },
    {
      "cell_type": "code",
      "metadata": {
        "id": "ZEzGrZN22cAf"
      },
      "source": [
        "# Dependency Parse Tags for each word and its head\n",
        "def get_DEP_tags(sentence):\n",
        "  return [word.dep_ for word in nlp(sentence)]\n",
        "\n",
        "# Dependency Parse POS tag for head of each word\n",
        "def get_DEP_Parent_POS(sentence):\n",
        "  return [word.head.pos_ for word in nlp(sentence)]"
      ],
      "execution_count": 12,
      "outputs": []
    },
    {
      "cell_type": "code",
      "metadata": {
        "id": "8kM5gGD_iJCp"
      },
      "source": [
        "def find_sub_list(l, sublist):\n",
        "  sl_length = len(sublist)\n",
        "  if sl_length == 0:\n",
        "    return [-1, -1]\n",
        "  for ind in (i for i, e in enumerate(l) if e == sublist[0]):\n",
        "    if l[ind: ind+sl_length] == sublist:\n",
        "      return [ind, ind + sl_length - 1]"
      ],
      "execution_count": 13,
      "outputs": []
    },
    {
      "cell_type": "code",
      "metadata": {
        "id": "7Aus8HvApSgf"
      },
      "source": [
        "# Shortest Dependency Path\n",
        "def dep(sentence, entity1, entity2, direction):\n",
        "  shortest_dep_path = []\n",
        "  length = 0\n",
        "  tokens = get_tokens(sentence)\n",
        "\n",
        "  entity1_tokens = get_tokens(entity1)\n",
        "  entity2_tokens = get_tokens(entity2)\n",
        "  if len(entity1_tokens) == 0 or len(entity2_tokens) == 0:\n",
        "    return pd.Series((shortest_dep_path, length))\n",
        "\n",
        "  for chunk in nlp(entity1).noun_chunks:\n",
        "    entity1 = chunk.root.head.text\n",
        "\n",
        "  for chunk in nlp(entity2).noun_chunks:\n",
        "    entity2 = chunk.root.head.text\n",
        "\n",
        "  edges = []\n",
        "  data = []\n",
        "  graph = nx.Graph(edges)\n",
        "  for token in nlp(sentence):\n",
        "    data.append([token.head.text, token.text, token.dep_])\n",
        "    for child in token.children:\n",
        "      graph.add_edge(token.text, child.text)\n",
        "\n",
        "  # To plot the graph\n",
        "  # nx.draw(graph, with_labels=True)\n",
        "  \n",
        "  if graph.has_node(entity1) and graph.has_node(entity2) and nx.has_path(graph, entity1, entity2):\n",
        "    if direction == '(e2,e1)':\n",
        "      path = nx.shortest_path(graph, source=entity2, target=entity1)\n",
        "    else:\n",
        "      path = nx.shortest_path(graph, source=entity1, target=entity2)\n",
        "    length = nx.shortest_path_length(graph, entity1, entity2)\n",
        "  else:\n",
        "    path = []\n",
        "\n",
        "  for i in range(len(path)-1):\n",
        "    for j in data:\n",
        "      if j[0].lower() == path[i].lower() and j[1].lower() == path[i+1].lower():\n",
        "        shortest_dep_path.append(j[2])\n",
        "      elif j[0].lower() == path[i+1].lower() and j[1].lower() == path[i].lower():\n",
        "        shortest_dep_path.append(j[2])\n",
        "  return pd.Series((shortest_dep_path, length))"
      ],
      "execution_count": 14,
      "outputs": []
    },
    {
      "cell_type": "code",
      "metadata": {
        "id": "rZ9W315QYVjy",
        "colab": {
          "base_uri": "https://localhost:8080/",
          "height": 630
        },
        "outputId": "4c3a113d-a998-4189-9e17-76671e0dfcf7"
      },
      "source": [
        "# Shortest Depencey Path Display\n",
        "i = 1\n",
        "print(dep(trainDF.iloc[i,0], trainDF.iloc[i,4], trainDF.iloc[i,5], trainDF.iloc[i,3]))\n",
        "print(trainDF.iloc[i,4])\n",
        "print(trainDF.iloc[i,5])\n",
        "print(trainDF.iloc[i,3])\n",
        "\n",
        "options = {\"collapse_phrases\" : False}\n",
        "html = displacy.render(nlp(trainDF.iloc[i,0]), style=\"dep\")\n",
        "display(HTML(html))"
      ],
      "execution_count": 18,
      "outputs": [
        {
          "output_type": "stream",
          "text": [
            "0    [nsubjpass, conj, prep, pobj]\n",
            "1                                4\n",
            "dtype: object\n",
            "child\n",
            "cradle\n",
            "ND\n"
          ],
          "name": "stdout"
        },
        {
          "output_type": "display_data",
          "data": {
            "text/html": [
              "<svg xmlns=\"http://www.w3.org/2000/svg\" xmlns:xlink=\"http://www.w3.org/1999/xlink\" xml:lang=\"en\" id=\"2436327ba0354193b36096b1f34bab9f-0\" class=\"displacy\" width=\"2675\" height=\"487.0\" direction=\"ltr\" style=\"max-width: none; height: 487.0px; color: #000000; background: #ffffff; font-family: Arial; direction: ltr\">\n",
              "<text class=\"displacy-token\" fill=\"currentColor\" text-anchor=\"middle\" y=\"397.0\">\n",
              "    <tspan class=\"displacy-word\" fill=\"currentColor\" x=\"50\">The</tspan>\n",
              "    <tspan class=\"displacy-tag\" dy=\"2em\" fill=\"currentColor\" x=\"50\">DET</tspan>\n",
              "</text>\n",
              "\n",
              "<text class=\"displacy-token\" fill=\"currentColor\" text-anchor=\"middle\" y=\"397.0\">\n",
              "    <tspan class=\"displacy-word\" fill=\"currentColor\" x=\"225\">child</tspan>\n",
              "    <tspan class=\"displacy-tag\" dy=\"2em\" fill=\"currentColor\" x=\"225\">NOUN</tspan>\n",
              "</text>\n",
              "\n",
              "<text class=\"displacy-token\" fill=\"currentColor\" text-anchor=\"middle\" y=\"397.0\">\n",
              "    <tspan class=\"displacy-word\" fill=\"currentColor\" x=\"400\">was</tspan>\n",
              "    <tspan class=\"displacy-tag\" dy=\"2em\" fill=\"currentColor\" x=\"400\">AUX</tspan>\n",
              "</text>\n",
              "\n",
              "<text class=\"displacy-token\" fill=\"currentColor\" text-anchor=\"middle\" y=\"397.0\">\n",
              "    <tspan class=\"displacy-word\" fill=\"currentColor\" x=\"575\">carefully</tspan>\n",
              "    <tspan class=\"displacy-tag\" dy=\"2em\" fill=\"currentColor\" x=\"575\">ADV</tspan>\n",
              "</text>\n",
              "\n",
              "<text class=\"displacy-token\" fill=\"currentColor\" text-anchor=\"middle\" y=\"397.0\">\n",
              "    <tspan class=\"displacy-word\" fill=\"currentColor\" x=\"750\">wrapped</tspan>\n",
              "    <tspan class=\"displacy-tag\" dy=\"2em\" fill=\"currentColor\" x=\"750\">VERB</tspan>\n",
              "</text>\n",
              "\n",
              "<text class=\"displacy-token\" fill=\"currentColor\" text-anchor=\"middle\" y=\"397.0\">\n",
              "    <tspan class=\"displacy-word\" fill=\"currentColor\" x=\"925\">and</tspan>\n",
              "    <tspan class=\"displacy-tag\" dy=\"2em\" fill=\"currentColor\" x=\"925\">CCONJ</tspan>\n",
              "</text>\n",
              "\n",
              "<text class=\"displacy-token\" fill=\"currentColor\" text-anchor=\"middle\" y=\"397.0\">\n",
              "    <tspan class=\"displacy-word\" fill=\"currentColor\" x=\"1100\">bound</tspan>\n",
              "    <tspan class=\"displacy-tag\" dy=\"2em\" fill=\"currentColor\" x=\"1100\">VERB</tspan>\n",
              "</text>\n",
              "\n",
              "<text class=\"displacy-token\" fill=\"currentColor\" text-anchor=\"middle\" y=\"397.0\">\n",
              "    <tspan class=\"displacy-word\" fill=\"currentColor\" x=\"1275\">into</tspan>\n",
              "    <tspan class=\"displacy-tag\" dy=\"2em\" fill=\"currentColor\" x=\"1275\">ADP</tspan>\n",
              "</text>\n",
              "\n",
              "<text class=\"displacy-token\" fill=\"currentColor\" text-anchor=\"middle\" y=\"397.0\">\n",
              "    <tspan class=\"displacy-word\" fill=\"currentColor\" x=\"1450\">the</tspan>\n",
              "    <tspan class=\"displacy-tag\" dy=\"2em\" fill=\"currentColor\" x=\"1450\">DET</tspan>\n",
              "</text>\n",
              "\n",
              "<text class=\"displacy-token\" fill=\"currentColor\" text-anchor=\"middle\" y=\"397.0\">\n",
              "    <tspan class=\"displacy-word\" fill=\"currentColor\" x=\"1625\">cradle</tspan>\n",
              "    <tspan class=\"displacy-tag\" dy=\"2em\" fill=\"currentColor\" x=\"1625\">NOUN</tspan>\n",
              "</text>\n",
              "\n",
              "<text class=\"displacy-token\" fill=\"currentColor\" text-anchor=\"middle\" y=\"397.0\">\n",
              "    <tspan class=\"displacy-word\" fill=\"currentColor\" x=\"1800\">by</tspan>\n",
              "    <tspan class=\"displacy-tag\" dy=\"2em\" fill=\"currentColor\" x=\"1800\">ADP</tspan>\n",
              "</text>\n",
              "\n",
              "<text class=\"displacy-token\" fill=\"currentColor\" text-anchor=\"middle\" y=\"397.0\">\n",
              "    <tspan class=\"displacy-word\" fill=\"currentColor\" x=\"1975\">means</tspan>\n",
              "    <tspan class=\"displacy-tag\" dy=\"2em\" fill=\"currentColor\" x=\"1975\">NOUN</tspan>\n",
              "</text>\n",
              "\n",
              "<text class=\"displacy-token\" fill=\"currentColor\" text-anchor=\"middle\" y=\"397.0\">\n",
              "    <tspan class=\"displacy-word\" fill=\"currentColor\" x=\"2150\">of</tspan>\n",
              "    <tspan class=\"displacy-tag\" dy=\"2em\" fill=\"currentColor\" x=\"2150\">ADP</tspan>\n",
              "</text>\n",
              "\n",
              "<text class=\"displacy-token\" fill=\"currentColor\" text-anchor=\"middle\" y=\"397.0\">\n",
              "    <tspan class=\"displacy-word\" fill=\"currentColor\" x=\"2325\">a</tspan>\n",
              "    <tspan class=\"displacy-tag\" dy=\"2em\" fill=\"currentColor\" x=\"2325\">DET</tspan>\n",
              "</text>\n",
              "\n",
              "<text class=\"displacy-token\" fill=\"currentColor\" text-anchor=\"middle\" y=\"397.0\">\n",
              "    <tspan class=\"displacy-word\" fill=\"currentColor\" x=\"2500\">cord.</tspan>\n",
              "    <tspan class=\"displacy-tag\" dy=\"2em\" fill=\"currentColor\" x=\"2500\">NOUN</tspan>\n",
              "</text>\n",
              "\n",
              "<g class=\"displacy-arrow\">\n",
              "    <path class=\"displacy-arc\" id=\"arrow-2436327ba0354193b36096b1f34bab9f-0-0\" stroke-width=\"2px\" d=\"M70,352.0 C70,264.5 210.0,264.5 210.0,352.0\" fill=\"none\" stroke=\"currentColor\"/>\n",
              "    <text dy=\"1.25em\" style=\"font-size: 0.8em; letter-spacing: 1px\">\n",
              "        <textPath xlink:href=\"#arrow-2436327ba0354193b36096b1f34bab9f-0-0\" class=\"displacy-label\" startOffset=\"50%\" side=\"left\" fill=\"currentColor\" text-anchor=\"middle\">det</textPath>\n",
              "    </text>\n",
              "    <path class=\"displacy-arrowhead\" d=\"M70,354.0 L62,342.0 78,342.0\" fill=\"currentColor\"/>\n",
              "</g>\n",
              "\n",
              "<g class=\"displacy-arrow\">\n",
              "    <path class=\"displacy-arc\" id=\"arrow-2436327ba0354193b36096b1f34bab9f-0-1\" stroke-width=\"2px\" d=\"M245,352.0 C245,89.5 745.0,89.5 745.0,352.0\" fill=\"none\" stroke=\"currentColor\"/>\n",
              "    <text dy=\"1.25em\" style=\"font-size: 0.8em; letter-spacing: 1px\">\n",
              "        <textPath xlink:href=\"#arrow-2436327ba0354193b36096b1f34bab9f-0-1\" class=\"displacy-label\" startOffset=\"50%\" side=\"left\" fill=\"currentColor\" text-anchor=\"middle\">nsubjpass</textPath>\n",
              "    </text>\n",
              "    <path class=\"displacy-arrowhead\" d=\"M245,354.0 L237,342.0 253,342.0\" fill=\"currentColor\"/>\n",
              "</g>\n",
              "\n",
              "<g class=\"displacy-arrow\">\n",
              "    <path class=\"displacy-arc\" id=\"arrow-2436327ba0354193b36096b1f34bab9f-0-2\" stroke-width=\"2px\" d=\"M420,352.0 C420,177.0 740.0,177.0 740.0,352.0\" fill=\"none\" stroke=\"currentColor\"/>\n",
              "    <text dy=\"1.25em\" style=\"font-size: 0.8em; letter-spacing: 1px\">\n",
              "        <textPath xlink:href=\"#arrow-2436327ba0354193b36096b1f34bab9f-0-2\" class=\"displacy-label\" startOffset=\"50%\" side=\"left\" fill=\"currentColor\" text-anchor=\"middle\">auxpass</textPath>\n",
              "    </text>\n",
              "    <path class=\"displacy-arrowhead\" d=\"M420,354.0 L412,342.0 428,342.0\" fill=\"currentColor\"/>\n",
              "</g>\n",
              "\n",
              "<g class=\"displacy-arrow\">\n",
              "    <path class=\"displacy-arc\" id=\"arrow-2436327ba0354193b36096b1f34bab9f-0-3\" stroke-width=\"2px\" d=\"M595,352.0 C595,264.5 735.0,264.5 735.0,352.0\" fill=\"none\" stroke=\"currentColor\"/>\n",
              "    <text dy=\"1.25em\" style=\"font-size: 0.8em; letter-spacing: 1px\">\n",
              "        <textPath xlink:href=\"#arrow-2436327ba0354193b36096b1f34bab9f-0-3\" class=\"displacy-label\" startOffset=\"50%\" side=\"left\" fill=\"currentColor\" text-anchor=\"middle\">advmod</textPath>\n",
              "    </text>\n",
              "    <path class=\"displacy-arrowhead\" d=\"M595,354.0 L587,342.0 603,342.0\" fill=\"currentColor\"/>\n",
              "</g>\n",
              "\n",
              "<g class=\"displacy-arrow\">\n",
              "    <path class=\"displacy-arc\" id=\"arrow-2436327ba0354193b36096b1f34bab9f-0-4\" stroke-width=\"2px\" d=\"M770,352.0 C770,264.5 910.0,264.5 910.0,352.0\" fill=\"none\" stroke=\"currentColor\"/>\n",
              "    <text dy=\"1.25em\" style=\"font-size: 0.8em; letter-spacing: 1px\">\n",
              "        <textPath xlink:href=\"#arrow-2436327ba0354193b36096b1f34bab9f-0-4\" class=\"displacy-label\" startOffset=\"50%\" side=\"left\" fill=\"currentColor\" text-anchor=\"middle\">cc</textPath>\n",
              "    </text>\n",
              "    <path class=\"displacy-arrowhead\" d=\"M910.0,354.0 L918.0,342.0 902.0,342.0\" fill=\"currentColor\"/>\n",
              "</g>\n",
              "\n",
              "<g class=\"displacy-arrow\">\n",
              "    <path class=\"displacy-arc\" id=\"arrow-2436327ba0354193b36096b1f34bab9f-0-5\" stroke-width=\"2px\" d=\"M770,352.0 C770,177.0 1090.0,177.0 1090.0,352.0\" fill=\"none\" stroke=\"currentColor\"/>\n",
              "    <text dy=\"1.25em\" style=\"font-size: 0.8em; letter-spacing: 1px\">\n",
              "        <textPath xlink:href=\"#arrow-2436327ba0354193b36096b1f34bab9f-0-5\" class=\"displacy-label\" startOffset=\"50%\" side=\"left\" fill=\"currentColor\" text-anchor=\"middle\">conj</textPath>\n",
              "    </text>\n",
              "    <path class=\"displacy-arrowhead\" d=\"M1090.0,354.0 L1098.0,342.0 1082.0,342.0\" fill=\"currentColor\"/>\n",
              "</g>\n",
              "\n",
              "<g class=\"displacy-arrow\">\n",
              "    <path class=\"displacy-arc\" id=\"arrow-2436327ba0354193b36096b1f34bab9f-0-6\" stroke-width=\"2px\" d=\"M1120,352.0 C1120,264.5 1260.0,264.5 1260.0,352.0\" fill=\"none\" stroke=\"currentColor\"/>\n",
              "    <text dy=\"1.25em\" style=\"font-size: 0.8em; letter-spacing: 1px\">\n",
              "        <textPath xlink:href=\"#arrow-2436327ba0354193b36096b1f34bab9f-0-6\" class=\"displacy-label\" startOffset=\"50%\" side=\"left\" fill=\"currentColor\" text-anchor=\"middle\">prep</textPath>\n",
              "    </text>\n",
              "    <path class=\"displacy-arrowhead\" d=\"M1260.0,354.0 L1268.0,342.0 1252.0,342.0\" fill=\"currentColor\"/>\n",
              "</g>\n",
              "\n",
              "<g class=\"displacy-arrow\">\n",
              "    <path class=\"displacy-arc\" id=\"arrow-2436327ba0354193b36096b1f34bab9f-0-7\" stroke-width=\"2px\" d=\"M1470,352.0 C1470,264.5 1610.0,264.5 1610.0,352.0\" fill=\"none\" stroke=\"currentColor\"/>\n",
              "    <text dy=\"1.25em\" style=\"font-size: 0.8em; letter-spacing: 1px\">\n",
              "        <textPath xlink:href=\"#arrow-2436327ba0354193b36096b1f34bab9f-0-7\" class=\"displacy-label\" startOffset=\"50%\" side=\"left\" fill=\"currentColor\" text-anchor=\"middle\">det</textPath>\n",
              "    </text>\n",
              "    <path class=\"displacy-arrowhead\" d=\"M1470,354.0 L1462,342.0 1478,342.0\" fill=\"currentColor\"/>\n",
              "</g>\n",
              "\n",
              "<g class=\"displacy-arrow\">\n",
              "    <path class=\"displacy-arc\" id=\"arrow-2436327ba0354193b36096b1f34bab9f-0-8\" stroke-width=\"2px\" d=\"M1295,352.0 C1295,177.0 1615.0,177.0 1615.0,352.0\" fill=\"none\" stroke=\"currentColor\"/>\n",
              "    <text dy=\"1.25em\" style=\"font-size: 0.8em; letter-spacing: 1px\">\n",
              "        <textPath xlink:href=\"#arrow-2436327ba0354193b36096b1f34bab9f-0-8\" class=\"displacy-label\" startOffset=\"50%\" side=\"left\" fill=\"currentColor\" text-anchor=\"middle\">pobj</textPath>\n",
              "    </text>\n",
              "    <path class=\"displacy-arrowhead\" d=\"M1615.0,354.0 L1623.0,342.0 1607.0,342.0\" fill=\"currentColor\"/>\n",
              "</g>\n",
              "\n",
              "<g class=\"displacy-arrow\">\n",
              "    <path class=\"displacy-arc\" id=\"arrow-2436327ba0354193b36096b1f34bab9f-0-9\" stroke-width=\"2px\" d=\"M1120,352.0 C1120,2.0 1800.0,2.0 1800.0,352.0\" fill=\"none\" stroke=\"currentColor\"/>\n",
              "    <text dy=\"1.25em\" style=\"font-size: 0.8em; letter-spacing: 1px\">\n",
              "        <textPath xlink:href=\"#arrow-2436327ba0354193b36096b1f34bab9f-0-9\" class=\"displacy-label\" startOffset=\"50%\" side=\"left\" fill=\"currentColor\" text-anchor=\"middle\">agent</textPath>\n",
              "    </text>\n",
              "    <path class=\"displacy-arrowhead\" d=\"M1800.0,354.0 L1808.0,342.0 1792.0,342.0\" fill=\"currentColor\"/>\n",
              "</g>\n",
              "\n",
              "<g class=\"displacy-arrow\">\n",
              "    <path class=\"displacy-arc\" id=\"arrow-2436327ba0354193b36096b1f34bab9f-0-10\" stroke-width=\"2px\" d=\"M1820,352.0 C1820,264.5 1960.0,264.5 1960.0,352.0\" fill=\"none\" stroke=\"currentColor\"/>\n",
              "    <text dy=\"1.25em\" style=\"font-size: 0.8em; letter-spacing: 1px\">\n",
              "        <textPath xlink:href=\"#arrow-2436327ba0354193b36096b1f34bab9f-0-10\" class=\"displacy-label\" startOffset=\"50%\" side=\"left\" fill=\"currentColor\" text-anchor=\"middle\">pobj</textPath>\n",
              "    </text>\n",
              "    <path class=\"displacy-arrowhead\" d=\"M1960.0,354.0 L1968.0,342.0 1952.0,342.0\" fill=\"currentColor\"/>\n",
              "</g>\n",
              "\n",
              "<g class=\"displacy-arrow\">\n",
              "    <path class=\"displacy-arc\" id=\"arrow-2436327ba0354193b36096b1f34bab9f-0-11\" stroke-width=\"2px\" d=\"M1995,352.0 C1995,264.5 2135.0,264.5 2135.0,352.0\" fill=\"none\" stroke=\"currentColor\"/>\n",
              "    <text dy=\"1.25em\" style=\"font-size: 0.8em; letter-spacing: 1px\">\n",
              "        <textPath xlink:href=\"#arrow-2436327ba0354193b36096b1f34bab9f-0-11\" class=\"displacy-label\" startOffset=\"50%\" side=\"left\" fill=\"currentColor\" text-anchor=\"middle\">prep</textPath>\n",
              "    </text>\n",
              "    <path class=\"displacy-arrowhead\" d=\"M2135.0,354.0 L2143.0,342.0 2127.0,342.0\" fill=\"currentColor\"/>\n",
              "</g>\n",
              "\n",
              "<g class=\"displacy-arrow\">\n",
              "    <path class=\"displacy-arc\" id=\"arrow-2436327ba0354193b36096b1f34bab9f-0-12\" stroke-width=\"2px\" d=\"M2345,352.0 C2345,264.5 2485.0,264.5 2485.0,352.0\" fill=\"none\" stroke=\"currentColor\"/>\n",
              "    <text dy=\"1.25em\" style=\"font-size: 0.8em; letter-spacing: 1px\">\n",
              "        <textPath xlink:href=\"#arrow-2436327ba0354193b36096b1f34bab9f-0-12\" class=\"displacy-label\" startOffset=\"50%\" side=\"left\" fill=\"currentColor\" text-anchor=\"middle\">det</textPath>\n",
              "    </text>\n",
              "    <path class=\"displacy-arrowhead\" d=\"M2345,354.0 L2337,342.0 2353,342.0\" fill=\"currentColor\"/>\n",
              "</g>\n",
              "\n",
              "<g class=\"displacy-arrow\">\n",
              "    <path class=\"displacy-arc\" id=\"arrow-2436327ba0354193b36096b1f34bab9f-0-13\" stroke-width=\"2px\" d=\"M2170,352.0 C2170,177.0 2490.0,177.0 2490.0,352.0\" fill=\"none\" stroke=\"currentColor\"/>\n",
              "    <text dy=\"1.25em\" style=\"font-size: 0.8em; letter-spacing: 1px\">\n",
              "        <textPath xlink:href=\"#arrow-2436327ba0354193b36096b1f34bab9f-0-13\" class=\"displacy-label\" startOffset=\"50%\" side=\"left\" fill=\"currentColor\" text-anchor=\"middle\">pobj</textPath>\n",
              "    </text>\n",
              "    <path class=\"displacy-arrowhead\" d=\"M2490.0,354.0 L2498.0,342.0 2482.0,342.0\" fill=\"currentColor\"/>\n",
              "</g>\n",
              "</svg>"
            ],
            "text/plain": [
              "<IPython.core.display.HTML object>"
            ]
          },
          "metadata": {
            "tags": []
          }
        }
      ]
    },
    {
      "cell_type": "markdown",
      "metadata": {
        "id": "Vv9Mj67H9qEz"
      },
      "source": [
        "WordNet"
      ]
    },
    {
      "cell_type": "code",
      "metadata": {
        "id": "17-lP0PfP-ce"
      },
      "source": [
        "def get_entity_POS(sentence, entity):\n",
        "  entity_tokens = get_tokens(entity)\n",
        "  sentence_tokens = get_tokens(sentence)\n",
        "\n",
        "  if len(entity_tokens) == 0:\n",
        "    return 'X'\n",
        "\n",
        "  e1_start, e1_end = find_sub_list(sentence_tokens, entity_tokens)\n",
        "\n",
        "  pos = get_POS_tags(sentence)\n",
        "  if e1_start == e1_end:\n",
        "    return pos[e1_start]\n",
        "  else:\n",
        "    for chunk in nlp(entity).noun_chunks:\n",
        "      return pos[sentence_tokens.index(chunk.root.head.text)]\n",
        "  return 'X'"
      ],
      "execution_count": 19,
      "outputs": []
    },
    {
      "cell_type": "code",
      "metadata": {
        "id": "pLtYU_QDIWWQ"
      },
      "source": [
        "def get_wordnet_pos(entity_pos):\n",
        "  pos = None\n",
        "  if entity_pos.startswith('J'):\n",
        "    pos = wordnet.ADJ\n",
        "  elif entity_pos.startswith('N'):\n",
        "    pos = wordnet.NOUN\n",
        "  elif entity_pos.startswith('R'):\n",
        "    pos = wordnet.ADV\n",
        "  elif entity_pos.startswith('V'):\n",
        "    pos = wordnet.VERB\n",
        "  return pos"
      ],
      "execution_count": 21,
      "outputs": []
    },
    {
      "cell_type": "code",
      "metadata": {
        "id": "e_OEB26w_l4K"
      },
      "source": [
        "# hypernymns, hyponyms, meronyms, holonyms and synset similarities\n",
        "def get_synsets(entity, entity_pos):\n",
        "  entity = str(entity)\n",
        "  \n",
        "  pos = get_wordnet_pos(entity_pos)\n",
        "  hype = ['O']\n",
        "  hypo = ['O']\n",
        "  mero = ['O']\n",
        "  holo = ['O']\n",
        "\n",
        "  #part / member / substance\n",
        "  syn = wordnet.synsets(entity, pos=pos)\n",
        "  if len(syn) > 0:\n",
        "    hype = [x.name().split('.')[0] for x in syn[0].hypernyms()]\n",
        "    hypo = [x.name().split('.')[0] for x in syn[0].hyponyms()]\n",
        "    mero = [x.name().split('.')[0] for x in syn[0].part_meronyms()]\n",
        "    holo = [x.name().split('.')[0] for x in syn[0].member_holonyms()]\n",
        "\n",
        "  hype = ['O'] if len(hype) == 0 else hype\n",
        "  hypo = ['O'] if len(hypo) == 0 else hypo\n",
        "  mero = ['O'] if len(mero) == 0 else mero\n",
        "  holo = ['O'] if len(holo) == 0 else holo\n",
        "\n",
        "  return pd.Series((hype, hypo, mero, holo))"
      ],
      "execution_count": 20,
      "outputs": []
    },
    {
      "cell_type": "code",
      "metadata": {
        "id": "EONe8gvNbk7X"
      },
      "source": [
        "# Path similarity\n",
        "def get_similarities(entity1, entity2, entity1_pos, entity2_pos):\n",
        "  pos1 = get_wordnet_pos(entity1)\n",
        "  pos2 = get_wordnet_pos(entity2)\n",
        "\n",
        "  synsets1 = wordnet.synsets(entity1, pos=pos1)\n",
        "  synsets2 = wordnet.synsets(entity2, pos=pos2)\n",
        "\n",
        "  if len(synsets1) > 0 and len(synsets2) > 0:\n",
        "    similarity = synsets1[0].path_similarity(synsets2[0])\n",
        "  else:\n",
        "    similarity = 0.0\n",
        "  return similarity if similarity else 0.0"
      ],
      "execution_count": 22,
      "outputs": []
    },
    {
      "cell_type": "code",
      "metadata": {
        "id": "FVIX6AJEJkfO"
      },
      "source": [
        "# NER using spaCy\n",
        "def NER(sentence, entity1, entity2):\n",
        "  doc = nlp(sentence)\n",
        "  e1 = 'NONE'\n",
        "  e2 = 'NONE'\n",
        "\n",
        "  for chunk in nlp(entity1).noun_chunks:\n",
        "    entity1 = chunk.root.head.text\n",
        "\n",
        "  for chunk in nlp(entity2).noun_chunks:\n",
        "    entity2 = chunk.root.head.text\n",
        "    \n",
        "  for ent in doc.ents:\n",
        "    if entity1 in ent.text:\n",
        "      e1 = ent.label_\n",
        "    elif entity2 in ent.text:\n",
        "      e2 = ent.label_\n",
        "  return pd.Series((e1, e2))"
      ],
      "execution_count": 24,
      "outputs": []
    },
    {
      "cell_type": "code",
      "metadata": {
        "id": "Rne5OZyWStPQ"
      },
      "source": [
        "def features(DataFrame):\n",
        "  DataFrame['Entity1_POS'] = DataFrame.apply(lambda x: get_entity_POS(x.Sentence, x.Entity1), axis=1)\n",
        "  DataFrame['Entity2_POS'] = DataFrame.apply(lambda x: get_entity_POS(x.Sentence, x.Entity2), axis=1)\n",
        "  DataFrame['Tokens'] = DataFrame.apply(lambda x: get_tokens(x.Sentence), axis=1)\n",
        "  DataFrame['Lemmas'] = DataFrame.apply(lambda x: get_lemmas(x.Sentence), axis=1)\n",
        "  DataFrame['POS Tags'] = DataFrame.apply(lambda x: get_POS_tags(x.Sentence), axis=1)\n",
        "  DataFrame['DEP Tags'] = DataFrame.apply(lambda x: get_DEP_tags(x.Sentence), axis=1)\n",
        "  DataFrame['DEP Parent POS'] = DataFrame.apply(lambda x: get_DEP_Parent_POS(x.Sentence), axis=1)\n",
        "  DataFrame[['ShortestPath', 'ShortestPathLength']] = DataFrame.apply(lambda x: dep(x.Sentence, x.Entity1, x.Entity2, x.Direction), axis=1)\n",
        "  DataFrame[['NE1', 'NE2']] = DataFrame.apply(lambda x: NER(x.Sentence, x.Entity1, x.Entity2), axis=1)\n",
        "  DataFrame[['E1_hype', 'E1_hypo', 'E1_mero', 'E1_holo']] = DataFrame.apply(lambda x: get_synsets(x.Entity1, x.Entity1_POS), axis=1)\n",
        "  DataFrame[['E2_hype', 'E2_hypo', 'E2_mero', 'E2_holo']] = DataFrame.apply(lambda x: get_synsets(x.Entity2, x.Entity2_POS), axis=1)\n",
        "  DataFrame['PathSimilarity'] = DataFrame.apply(lambda x: get_similarities(x.Entity1, x.Entity2, x.Entity1_POS, x.Entity2_POS), axis=1)\n",
        "  return DataFrame"
      ],
      "execution_count": 25,
      "outputs": []
    },
    {
      "cell_type": "code",
      "metadata": {
        "id": "AalexoexvXKM"
      },
      "source": [
        "trainDF = features(trainDF)\n",
        "testDF = features(testDF)"
      ],
      "execution_count": 26,
      "outputs": []
    },
    {
      "cell_type": "code",
      "metadata": {
        "id": "9x517XEI0jsI"
      },
      "source": [
        "trainDF.head()"
      ],
      "execution_count": null,
      "outputs": []
    },
    {
      "cell_type": "code",
      "metadata": {
        "id": "s32biH3ow10g"
      },
      "source": [
        "testDF.head()"
      ],
      "execution_count": null,
      "outputs": []
    },
    {
      "cell_type": "markdown",
      "metadata": {
        "id": "KF2pP2M5y9EY"
      },
      "source": [
        "Other features"
      ]
    },
    {
      "cell_type": "code",
      "metadata": {
        "id": "27cDy1xgxF7Z"
      },
      "source": [
        "# Stem of entities\n",
        "def get_stems(entity):\n",
        "  stemmer = PorterStemmer()\n",
        "  return stemmer.stem(entity)"
      ],
      "execution_count": 31,
      "outputs": []
    },
    {
      "cell_type": "code",
      "metadata": {
        "id": "QBpslHEey-in"
      },
      "source": [
        "# Prefixes of length 5 between the entities, word before e1, word after e2, POS sequence between entities, word count between entities\n",
        "def get_prefixes(sentence, entity1, entity2):\n",
        "  entity1 = get_tokens(entity1)\n",
        "  entity2 = get_tokens(entity2)\n",
        "  tokens = get_tokens(sentence)\n",
        "\n",
        "  e1Index = find_sub_list(tokens, entity1)\n",
        "  e2Index = find_sub_list(tokens, entity2)\n",
        "\n",
        "  if e1Index[0] != -1:\n",
        "    before_e1 = tokens[e1Index[0] - 1] if e1Index[0] != 0 else 'O'\n",
        "  if e2Index[0] != -1:\n",
        "    after_e2 = tokens[e2Index[-1] + 1] if e2Index[-1] != len(tokens)-1 else 'O'\n",
        "\n",
        "  if e1Index[0] == -1 or e2Index[0] == -1:\n",
        "    return pd.Series([], before_e1, after_e2, 'O', 0)\n",
        "\n",
        "  words_bet_nominals = tokens[e1Index[-1] + 1: e2Index[0]]\n",
        "  sentence_bet_nominals = ' '.join(word for word in words_bet_nominals)\n",
        "  prefix_list = [i[:5] for i in words_bet_nominals]\n",
        "  # prefix_list = get_stems(sentence_bet_nominals)\n",
        "\n",
        "  len_bet_nominals = len(words_bet_nominals)\n",
        "\n",
        "  pos_bet_nominals = get_POS_tags(sentence_bet_nominals)\n",
        "  pos_bet_nominals = '_'.join(i[0] for i in pos_bet_nominals)\n",
        "\n",
        "  return pd.Series((prefix_list, before_e1, after_e2, pos_bet_nominals, len_bet_nominals))"
      ],
      "execution_count": 32,
      "outputs": []
    },
    {
      "cell_type": "code",
      "metadata": {
        "id": "8IatnW9x9WZU"
      },
      "source": [
        "# Gloss\n",
        "def gloss(entity1, entity2, entity1_pos, entity2_pos):\n",
        "  pos1 = get_wordnet_pos(entity1_pos)\n",
        "  pos2 = get_wordnet_pos(entity2_pos)\n",
        "\n",
        "  syn1 = wordnet.synsets(entity1, pos=pos1)\n",
        "  syn2 = wordnet.synsets(entity2, pos=pos2)\n",
        "\n",
        "  res = 0\n",
        "  if len(syn1) == 0 or len(syn2) == 0:\n",
        "    return 0\n",
        "  for i in syn1:\n",
        "    for j in syn2:\n",
        "      syn1_def = i.definition()\n",
        "      syn2_def = j.definition()\n",
        "      if j.name().split('.')[0] in syn1_def:\n",
        "        res = 1\n",
        "      elif i.name().split('.')[0] in syn2_def:\n",
        "        res = 1\n",
        "  return res"
      ],
      "execution_count": 33,
      "outputs": []
    },
    {
      "cell_type": "code",
      "metadata": {
        "id": "NMnXwFXxI7lc"
      },
      "source": [
        "def other_features(DataFrame):\n",
        "  DataFrame['E1_Stems'] = DataFrame.apply(lambda x: get_stems(x.Entity1), axis=1)\n",
        "  DataFrame['E2_Stems'] = DataFrame.apply(lambda x: get_stems(x.Entity2), axis=1)\n",
        "  DataFrame[['prefixes', 'before_E1', 'after_E2', 'POS_bet_Noms', 'wordCount_Bet_Noms']] = DataFrame.apply(lambda x: get_prefixes(x.Sentence, x.Entity1, x.Entity2), axis=1)\n",
        "  DataFrame['Gloss'] = DataFrame.apply(lambda x: gloss(x.Entity1, x.Entity2, x.Entity1_POS, x.Entity2_POS), axis=1)\n",
        "  return DataFrame"
      ],
      "execution_count": 39,
      "outputs": []
    },
    {
      "cell_type": "code",
      "metadata": {
        "id": "RReJifCtPH0F"
      },
      "source": [
        "trainDF = other_features(trainDF)\n",
        "testDF = other_features(testDF)"
      ],
      "execution_count": 40,
      "outputs": []
    },
    {
      "cell_type": "code",
      "metadata": {
        "colab": {
          "base_uri": "https://localhost:8080/",
          "height": 1000
        },
        "id": "9yqAXxBh-9c4",
        "outputId": "590b41cc-414f-4836-b7f6-317d91df280c"
      },
      "source": [
        "trainDF.head()"
      ],
      "execution_count": 44,
      "outputs": [
        {
          "output_type": "execute_result",
          "data": {
            "text/html": [
              "<div>\n",
              "<style scoped>\n",
              "    .dataframe tbody tr th:only-of-type {\n",
              "        vertical-align: middle;\n",
              "    }\n",
              "\n",
              "    .dataframe tbody tr th {\n",
              "        vertical-align: top;\n",
              "    }\n",
              "\n",
              "    .dataframe thead th {\n",
              "        text-align: right;\n",
              "    }\n",
              "</style>\n",
              "<table border=\"1\" class=\"dataframe\">\n",
              "  <thead>\n",
              "    <tr style=\"text-align: right;\">\n",
              "      <th></th>\n",
              "      <th>Sentence</th>\n",
              "      <th>Relation_Direction</th>\n",
              "      <th>Relation</th>\n",
              "      <th>Direction</th>\n",
              "      <th>Entity1</th>\n",
              "      <th>Entity2</th>\n",
              "      <th>Entity1_POS</th>\n",
              "      <th>Entity2_POS</th>\n",
              "      <th>Tokens</th>\n",
              "      <th>Lemmas</th>\n",
              "      <th>POS Tags</th>\n",
              "      <th>DEP Tags</th>\n",
              "      <th>DEP Parent POS</th>\n",
              "      <th>ShortestPath</th>\n",
              "      <th>ShortestPathLength</th>\n",
              "      <th>NE1</th>\n",
              "      <th>NE2</th>\n",
              "      <th>E1_hype</th>\n",
              "      <th>E1_hypo</th>\n",
              "      <th>E1_mero</th>\n",
              "      <th>E1_holo</th>\n",
              "      <th>E2_hype</th>\n",
              "      <th>E2_hypo</th>\n",
              "      <th>E2_mero</th>\n",
              "      <th>E2_holo</th>\n",
              "      <th>PathSimilarity</th>\n",
              "      <th>E1_Stems</th>\n",
              "      <th>E2_Stems</th>\n",
              "      <th>prefixes</th>\n",
              "      <th>before_E1</th>\n",
              "      <th>after_E2</th>\n",
              "      <th>POS_bet_Noms</th>\n",
              "      <th>wordCount_Bet_Noms</th>\n",
              "      <th>Gloss</th>\n",
              "    </tr>\n",
              "  </thead>\n",
              "  <tbody>\n",
              "    <tr>\n",
              "      <th>0</th>\n",
              "      <td>The system as described above has its greatest...</td>\n",
              "      <td>Component-Whole(e2,e1)</td>\n",
              "      <td>Component-Whole</td>\n",
              "      <td>(e2,e1)</td>\n",
              "      <td>configuration</td>\n",
              "      <td>elements</td>\n",
              "      <td>NN</td>\n",
              "      <td>NNS</td>\n",
              "      <td>[The, system, as, described, above, has, its, ...</td>\n",
              "      <td>[the, system, as, describe, above, have, -PRON...</td>\n",
              "      <td>[DT, NN, IN, VBN, IN, VBZ, PRP$, JJS, NN, IN, ...</td>\n",
              "      <td>[det, nsubj, mark, acl, advmod, ROOT, poss, am...</td>\n",
              "      <td>[NOUN, AUX, VERB, NOUN, VERB, AUX, NOUN, NOUN,...</td>\n",
              "      <td>[pobj, prep]</td>\n",
              "      <td>2</td>\n",
              "      <td>NONE</td>\n",
              "      <td>NONE</td>\n",
              "      <td>[design]</td>\n",
              "      <td>[redundancy, topology, unitization]</td>\n",
              "      <td>[O]</td>\n",
              "      <td>[O]</td>\n",
              "      <td>[weather]</td>\n",
              "      <td>[O]</td>\n",
              "      <td>[O]</td>\n",
              "      <td>[O]</td>\n",
              "      <td>0.062500</td>\n",
              "      <td>configur</td>\n",
              "      <td>element</td>\n",
              "      <td>[of, anten]</td>\n",
              "      <td>arrayed</td>\n",
              "      <td>.</td>\n",
              "      <td>I_N</td>\n",
              "      <td>2</td>\n",
              "      <td>1</td>\n",
              "    </tr>\n",
              "    <tr>\n",
              "      <th>1</th>\n",
              "      <td>The child was carefully wrapped and bound into...</td>\n",
              "      <td>Other</td>\n",
              "      <td>Other</td>\n",
              "      <td>ND</td>\n",
              "      <td>child</td>\n",
              "      <td>cradle</td>\n",
              "      <td>NN</td>\n",
              "      <td>NN</td>\n",
              "      <td>[The, child, was, carefully, wrapped, and, bou...</td>\n",
              "      <td>[the, child, be, carefully, wrap, and, bind, i...</td>\n",
              "      <td>[DT, NN, VBD, RB, VBN, CC, VBN, IN, DT, NN, IN...</td>\n",
              "      <td>[det, nsubjpass, auxpass, advmod, ROOT, cc, co...</td>\n",
              "      <td>[NOUN, VERB, VERB, VERB, VERB, VERB, VERB, VER...</td>\n",
              "      <td>[nsubjpass, conj, prep, pobj]</td>\n",
              "      <td>4</td>\n",
              "      <td>NONE</td>\n",
              "      <td>NONE</td>\n",
              "      <td>[juvenile]</td>\n",
              "      <td>[bairn, buster, changeling, child_prodigy, fos...</td>\n",
              "      <td>[child's_body]</td>\n",
              "      <td>[O]</td>\n",
              "      <td>[baby_bed]</td>\n",
              "      <td>[O]</td>\n",
              "      <td>[rocker]</td>\n",
              "      <td>[O]</td>\n",
              "      <td>0.083333</td>\n",
              "      <td>child</td>\n",
              "      <td>cradl</td>\n",
              "      <td>[was, caref, wrapp, and, bound, into, the]</td>\n",
              "      <td>The</td>\n",
              "      <td>by</td>\n",
              "      <td>V_R_V_C_V_I_D</td>\n",
              "      <td>7</td>\n",
              "      <td>0</td>\n",
              "    </tr>\n",
              "    <tr>\n",
              "      <th>2</th>\n",
              "      <td>The author of a keygen uses a disassembler to ...</td>\n",
              "      <td>Instrument-Agency(e2,e1)</td>\n",
              "      <td>Instrument-Agency</td>\n",
              "      <td>(e2,e1)</td>\n",
              "      <td>author</td>\n",
              "      <td>disassembler</td>\n",
              "      <td>NN</td>\n",
              "      <td>NN</td>\n",
              "      <td>[The, author, of, a, keygen, uses, a, disassem...</td>\n",
              "      <td>[the, author, of, a, keygen, use, a, disassemb...</td>\n",
              "      <td>[DT, NN, IN, DT, NN, VBZ, DT, NN, TO, VB, IN, ...</td>\n",
              "      <td>[det, nsubj, prep, det, pobj, ROOT, det, dobj,...</td>\n",
              "      <td>[NOUN, VERB, NOUN, NOUN, ADP, VERB, NOUN, VERB...</td>\n",
              "      <td>[dobj, nsubj]</td>\n",
              "      <td>2</td>\n",
              "      <td>NONE</td>\n",
              "      <td>NONE</td>\n",
              "      <td>[communicator]</td>\n",
              "      <td>[abstractor, alliterator, authoress, biographe...</td>\n",
              "      <td>[O]</td>\n",
              "      <td>[O]</td>\n",
              "      <td>[O]</td>\n",
              "      <td>[O]</td>\n",
              "      <td>[O]</td>\n",
              "      <td>[O]</td>\n",
              "      <td>0.000000</td>\n",
              "      <td>author</td>\n",
              "      <td>disassembl</td>\n",
              "      <td>[of, a, keyge, uses, a]</td>\n",
              "      <td>The</td>\n",
              "      <td>to</td>\n",
              "      <td>I_D_N_V_D</td>\n",
              "      <td>5</td>\n",
              "      <td>0</td>\n",
              "    </tr>\n",
              "    <tr>\n",
              "      <th>3</th>\n",
              "      <td>A misty ridge uprises from the surge .</td>\n",
              "      <td>Other</td>\n",
              "      <td>Other</td>\n",
              "      <td>ND</td>\n",
              "      <td>ridge</td>\n",
              "      <td>surge</td>\n",
              "      <td>NN</td>\n",
              "      <td>NN</td>\n",
              "      <td>[A, misty, ridge, uprises, from, the, surge, .]</td>\n",
              "      <td>[a, misty, ridge, uprise, from, the, surge, .]</td>\n",
              "      <td>[DT, JJ, NN, VBZ, IN, DT, NN, .]</td>\n",
              "      <td>[det, amod, compound, ROOT, prep, det, pobj, p...</td>\n",
              "      <td>[VERB, NOUN, VERB, VERB, VERB, NOUN, ADP, VERB]</td>\n",
              "      <td>[compound, prep, pobj]</td>\n",
              "      <td>3</td>\n",
              "      <td>NONE</td>\n",
              "      <td>NONE</td>\n",
              "      <td>[natural_elevation]</td>\n",
              "      <td>[bank, bar, dune, esker, ledge, reef, ripple_m...</td>\n",
              "      <td>[O]</td>\n",
              "      <td>[O]</td>\n",
              "      <td>[flow]</td>\n",
              "      <td>[debris_surge, onrush]</td>\n",
              "      <td>[O]</td>\n",
              "      <td>[O]</td>\n",
              "      <td>0.071429</td>\n",
              "      <td>ridg</td>\n",
              "      <td>surg</td>\n",
              "      <td>[upris, from, the]</td>\n",
              "      <td>misty</td>\n",
              "      <td>.</td>\n",
              "      <td>N_I_D</td>\n",
              "      <td>3</td>\n",
              "      <td>0</td>\n",
              "    </tr>\n",
              "    <tr>\n",
              "      <th>4</th>\n",
              "      <td>The student association is the voice of the un...</td>\n",
              "      <td>Member-Collection(e1,e2)</td>\n",
              "      <td>Member-Collection</td>\n",
              "      <td>(e1,e2)</td>\n",
              "      <td>student</td>\n",
              "      <td>association</td>\n",
              "      <td>NN</td>\n",
              "      <td>NN</td>\n",
              "      <td>[The, student, association, is, the, voice, of...</td>\n",
              "      <td>[the, student, association, be, the, voice, of...</td>\n",
              "      <td>[DT, NN, NN, VBZ, DT, NN, IN, DT, NNP, NN, NN,...</td>\n",
              "      <td>[det, compound, nsubj, ROOT, det, attr, prep, ...</td>\n",
              "      <td>[NOUN, NOUN, AUX, AUX, NOUN, AUX, NOUN, NOUN, ...</td>\n",
              "      <td>[compound]</td>\n",
              "      <td>1</td>\n",
              "      <td>NONE</td>\n",
              "      <td>NONE</td>\n",
              "      <td>[enrollee]</td>\n",
              "      <td>[art_student, auditor, catechumen, collegian, ...</td>\n",
              "      <td>[O]</td>\n",
              "      <td>[teacher-student_relation]</td>\n",
              "      <td>[organization]</td>\n",
              "      <td>[american_baptist_convention, american_legion,...</td>\n",
              "      <td>[O]</td>\n",
              "      <td>[O]</td>\n",
              "      <td>0.090909</td>\n",
              "      <td>student</td>\n",
              "      <td>associ</td>\n",
              "      <td>[]</td>\n",
              "      <td>The</td>\n",
              "      <td>is</td>\n",
              "      <td></td>\n",
              "      <td>0</td>\n",
              "      <td>0</td>\n",
              "    </tr>\n",
              "  </tbody>\n",
              "</table>\n",
              "</div>"
            ],
            "text/plain": [
              "                                            Sentence  ... Gloss\n",
              "0  The system as described above has its greatest...  ...     1\n",
              "1  The child was carefully wrapped and bound into...  ...     0\n",
              "2  The author of a keygen uses a disassembler to ...  ...     0\n",
              "3             A misty ridge uprises from the surge .  ...     0\n",
              "4  The student association is the voice of the un...  ...     0\n",
              "\n",
              "[5 rows x 34 columns]"
            ]
          },
          "metadata": {
            "tags": []
          },
          "execution_count": 44
        }
      ]
    },
    {
      "cell_type": "code",
      "metadata": {
        "colab": {
          "base_uri": "https://localhost:8080/"
        },
        "id": "hyptQePuw8jP",
        "outputId": "cf505a08-fe94-463f-b7e4-3876868de43a"
      },
      "source": [
        "# trainDF.isnull().values.any()\n",
        "# testDF.isnull().values.any()"
      ],
      "execution_count": 43,
      "outputs": [
        {
          "output_type": "execute_result",
          "data": {
            "text/plain": [
              "False"
            ]
          },
          "metadata": {
            "tags": []
          },
          "execution_count": 43
        }
      ]
    },
    {
      "cell_type": "code",
      "metadata": {
        "id": "KnT3X-p7SVLJ"
      },
      "source": [
        "# trainDF.to_csv('trainDF.csv', index=False)\n",
        "# testDF.to_csv('testDF.csv', index=False)"
      ],
      "execution_count": 46,
      "outputs": []
    },
    {
      "cell_type": "code",
      "metadata": {
        "id": "Sr7EowC5Hxiy"
      },
      "source": [
        "# Assumption: entities are single token\n",
        "def vectorial(sentence, entity):\n",
        "  entity1 = re.split('\\s|\\-|\\'', entity)\n",
        "  tokens = get_tokens(sentence)\n",
        "\n",
        "  start_index, end_index = find_sub_list(entity1, tokens)\n",
        "  print(start_index, end_index)\n",
        "\n",
        "  e1_start = start_index-3\n",
        "  e1_end = end_index+3\n",
        "\n",
        "  print(e1_start, e1_end)\n",
        "  count = -(abs(end_index) - abs(start_index))\n",
        "\n",
        "  while(count <= 6):\n",
        "    if e1_start >= 0 and e1_start < len(tokens) and (e1_start < start_index or e1_start > end_index):\n",
        "      print(tokens[e1_start])\n",
        "    e1_start += 1\n",
        "    count += 1\n"
      ],
      "execution_count": null,
      "outputs": []
    },
    {
      "cell_type": "code",
      "metadata": {
        "colab": {
          "base_uri": "https://localhost:8080/"
        },
        "id": "18hQ12eXKwwi",
        "outputId": "2a4efc42-6cca-4b08-e5fe-51b5adfc28c7"
      },
      "source": [
        "vectorial(df.iloc[1,0], df.iloc[1,3])"
      ],
      "execution_count": null,
      "outputs": [
        {
          "output_type": "stream",
          "text": [
            "0 2\n",
            "-3 5\n",
            "is\n",
            "a\n",
            "public\n"
          ],
          "name": "stdout"
        }
      ]
    },
    {
      "cell_type": "markdown",
      "metadata": {
        "id": "cMym3BkHqzJ5"
      },
      "source": [
        "**Task 3**"
      ]
    },
    {
      "cell_type": "markdown",
      "metadata": {
        "id": "dt7rnoLhkNYQ"
      },
      "source": [
        "Test Data"
      ]
    },
    {
      "cell_type": "code",
      "metadata": {
        "id": "I25HuWRWiETB"
      },
      "source": [
        "f = open(\"semeval_test.txt\",\"r\")\n",
        "data = f.readlines()\n",
        "\n",
        "relations = []\n",
        "sentences = []\n",
        "e1 = []\n",
        "e2 = []\n",
        "\n",
        "for i in range(len(data)):\n",
        "  if i%4 == 0:\n",
        "    sentences.append(data[i].split('\\t')[1].strip('\\n\\t\\s '))\n",
        "    e1.append(re.findall(r'<e.>.*?</e.>', data[i])[0][4:-5].strip())\n",
        "    e2.append(re.findall(r'<e.>.*?</e.>', data[i])[1][4:-5].strip())\n",
        "  elif i%4 == 1:\n",
        "    relations.append(data[i][:-1])\n",
        "\n",
        "test_df = pd.DataFrame()\n",
        "test_df['Sentences'] = sentences\n",
        "test_df['Relations'] = relations\n",
        "test_df['Direction'] = test_df['Relations'].apply(lambda x: 'ND' if x =='no_relation' else x[-7:])\n",
        "test_df['Entity1'] = e1\n",
        "test_df['Entity2'] = e2\n",
        "test_df.replace(regex=['<e1> ', '</e1> ', '<e2> ', ' </e2>'], value=' ', inplace=True)\n",
        "test_df['Sentences'] = test_df['Sentences'].str.strip('\" ')\n",
        "test_df['Sentences'] = test_df['Sentences'].apply(lambda x: re.sub(' +', ' ', x))\n",
        "test_df['Relations'] = test_df['Relations'].apply(lambda x: x if x == 'Other' else x[:-7])\n",
        "test_df['Labelled_Relations'] = le.transform(test_df['Relations'])"
      ],
      "execution_count": null,
      "outputs": []
    },
    {
      "cell_type": "code",
      "metadata": {
        "colab": {
          "base_uri": "https://localhost:8080/",
          "height": 200
        },
        "id": "A1ulOYkuiG7C",
        "outputId": "95f3e017-ae1c-4351-8868-4d5d66f84e72"
      },
      "source": [
        "test_df.head()"
      ],
      "execution_count": null,
      "outputs": [
        {
          "output_type": "execute_result",
          "data": {
            "text/html": [
              "<div>\n",
              "<style scoped>\n",
              "    .dataframe tbody tr th:only-of-type {\n",
              "        vertical-align: middle;\n",
              "    }\n",
              "\n",
              "    .dataframe tbody tr th {\n",
              "        vertical-align: top;\n",
              "    }\n",
              "\n",
              "    .dataframe thead th {\n",
              "        text-align: right;\n",
              "    }\n",
              "</style>\n",
              "<table border=\"1\" class=\"dataframe\">\n",
              "  <thead>\n",
              "    <tr style=\"text-align: right;\">\n",
              "      <th></th>\n",
              "      <th>Sentences</th>\n",
              "      <th>Relations</th>\n",
              "      <th>Direction</th>\n",
              "      <th>Entity1</th>\n",
              "      <th>Entity2</th>\n",
              "      <th>Labelled_Relations</th>\n",
              "    </tr>\n",
              "  </thead>\n",
              "  <tbody>\n",
              "    <tr>\n",
              "      <th>0</th>\n",
              "      <td>The most common &lt;e1&gt;audits were about &lt;e2&gt;wast...</td>\n",
              "      <td>Message-Topic</td>\n",
              "      <td>(e1,e2)</td>\n",
              "      <td>audits</td>\n",
              "      <td>waste</td>\n",
              "      <td>7</td>\n",
              "    </tr>\n",
              "    <tr>\n",
              "      <th>1</th>\n",
              "      <td>The &lt;e1&gt;company fabricates plastic &lt;e2&gt;chairs&lt;...</td>\n",
              "      <td>Product-Producer</td>\n",
              "      <td>(e2,e1)</td>\n",
              "      <td>company</td>\n",
              "      <td>chairs</td>\n",
              "      <td>9</td>\n",
              "    </tr>\n",
              "    <tr>\n",
              "      <th>2</th>\n",
              "      <td>The school &lt;e1&gt;master teaches the lesson with ...</td>\n",
              "      <td>Instrument-Agency</td>\n",
              "      <td>(e2,e1)</td>\n",
              "      <td>master</td>\n",
              "      <td>stick</td>\n",
              "      <td>5</td>\n",
              "    </tr>\n",
              "    <tr>\n",
              "      <th>3</th>\n",
              "      <td>The suspect dumped the dead &lt;e1&gt;body into a lo...</td>\n",
              "      <td>Entity-Destination</td>\n",
              "      <td>(e1,e2)</td>\n",
              "      <td>body</td>\n",
              "      <td>reservoir</td>\n",
              "      <td>3</td>\n",
              "    </tr>\n",
              "    <tr>\n",
              "      <th>4</th>\n",
              "      <td>Avian &lt;e1&gt;influenza is an infectious disease o...</td>\n",
              "      <td>Cause-Effect</td>\n",
              "      <td>(e2,e1)</td>\n",
              "      <td>influenza</td>\n",
              "      <td>virus</td>\n",
              "      <td>0</td>\n",
              "    </tr>\n",
              "  </tbody>\n",
              "</table>\n",
              "</div>"
            ],
            "text/plain": [
              "                                           Sentences  ... Labelled_Relations\n",
              "0  The most common <e1>audits were about <e2>wast...  ...                  7\n",
              "1  The <e1>company fabricates plastic <e2>chairs<...  ...                  9\n",
              "2  The school <e1>master teaches the lesson with ...  ...                  5\n",
              "3  The suspect dumped the dead <e1>body into a lo...  ...                  3\n",
              "4  Avian <e1>influenza is an infectious disease o...  ...                  0\n",
              "\n",
              "[5 rows x 6 columns]"
            ]
          },
          "metadata": {
            "tags": []
          },
          "execution_count": 125
        }
      ]
    },
    {
      "cell_type": "markdown",
      "metadata": {
        "id": "iyBG9uPfXfHv"
      },
      "source": [
        "Dict Vectorizer"
      ]
    },
    {
      "cell_type": "code",
      "metadata": {
        "colab": {
          "base_uri": "https://localhost:8080/"
        },
        "id": "_W2921NbeRbB",
        "outputId": "1f5c83ff-25e5-48e3-8815-da2ce0cfd4c3"
      },
      "source": [
        "features.columns"
      ],
      "execution_count": null,
      "outputs": [
        {
          "output_type": "execute_result",
          "data": {
            "text/plain": [
              "Index(['Relations', 'Direction', 'Entity1', 'Entity2', 'Tokens', 'Lemmas',\n",
              "       'POS Tags', 'DEP Tags', 'DEP Parent POS', 'ShortestPath',\n",
              "       'ShortestPathLength', 'NE1', 'NE2', 'Entity1_POS', 'Entity2_POS',\n",
              "       'E1_hype', 'E1_hypo', 'E1_mero', 'E1_holo', 'E2_hype', 'E2_hypo',\n",
              "       'E2_mero', 'E2_holo', 'PathSimilarity', 'E1_Stems', 'E2_Stems',\n",
              "       'prefixes', 'before_E1', 'after_E2', 'POS_bet_Noms',\n",
              "       'wordCount_Bet_Noms', 'Gloss'],\n",
              "      dtype='object')"
            ]
          },
          "metadata": {
            "tags": []
          },
          "execution_count": 17
        }
      ]
    },
    {
      "cell_type": "code",
      "metadata": {
        "id": "EoeJVgXjXPjy"
      },
      "source": [
        "# features_dict = features.T.to_dict().values()"
      ],
      "execution_count": null,
      "outputs": []
    },
    {
      "cell_type": "code",
      "metadata": {
        "id": "wQAzbDaUWocd"
      },
      "source": [
        "features_dict = features[['ShortestPath', 'ShortestPathLength', 'Entity1_POS', 'Entity2_POS']].to_dict('records')"
      ],
      "execution_count": null,
      "outputs": []
    },
    {
      "cell_type": "code",
      "metadata": {
        "colab": {
          "base_uri": "https://localhost:8080/"
        },
        "id": "WjBXW8dUhL8Q",
        "outputId": "f369703b-be81-46f1-a72d-cab9ad69040b"
      },
      "source": [
        "features['Relations'].value_counts()"
      ],
      "execution_count": null,
      "outputs": [
        {
          "output_type": "execute_result",
          "data": {
            "text/plain": [
              "Other                 1410\n",
              "Cause-Effect          1003\n",
              "Component-Whole        941\n",
              "Entity-Destination     845\n",
              "Product-Producer       717\n",
              "Entity-Origin          716\n",
              "Member-Collection      690\n",
              "Message-Topic          634\n",
              "Content-Container      540\n",
              "Instrument-Agency      504\n",
              "Name: Relations, dtype: int64"
            ]
          },
          "metadata": {
            "tags": []
          },
          "execution_count": 100
        }
      ]
    },
    {
      "cell_type": "code",
      "metadata": {
        "colab": {
          "base_uri": "https://localhost:8080/"
        },
        "id": "RiziMGaghh5E",
        "outputId": "2abae21d-f9a1-46a4-caf3-b69e58d1dd89"
      },
      "source": [
        "features['prefixes'].isnull().values.any()"
      ],
      "execution_count": null,
      "outputs": [
        {
          "output_type": "execute_result",
          "data": {
            "text/plain": [
              "False"
            ]
          },
          "metadata": {
            "tags": []
          },
          "execution_count": 126
        }
      ]
    },
    {
      "cell_type": "code",
      "metadata": {
        "id": "PJ-EudKRYzqr"
      },
      "source": [
        "v = DictVectorizer()\n",
        "featuresVec = v.fit_transform(features_dict).toarray()\n",
        "inputDF = pd.DataFrame(featuresVec)\n",
        "inputDF['Relations'] = features['Relations']"
      ],
      "execution_count": null,
      "outputs": []
    },
    {
      "cell_type": "code",
      "metadata": {
        "colab": {
          "base_uri": "https://localhost:8080/"
        },
        "id": "sUYooFPfhihG",
        "outputId": "930f0e26-ba58-4db4-876f-d34b5d9bb2f3"
      },
      "source": [
        "inputDF.isnull().values.any()"
      ],
      "execution_count": null,
      "outputs": [
        {
          "output_type": "execute_result",
          "data": {
            "text/plain": [
              "False"
            ]
          },
          "metadata": {
            "tags": []
          },
          "execution_count": 103
        }
      ]
    },
    {
      "cell_type": "code",
      "metadata": {
        "id": "5WeEqBbxcrLm"
      },
      "source": [
        "from sklearn import preprocessing\n",
        "le = preprocessing.LabelEncoder()\n",
        "le.fit(inputDF['Relations'])\n",
        "inputDF['Relations'] = le.transform(inputDF['Relations'])"
      ],
      "execution_count": null,
      "outputs": []
    },
    {
      "cell_type": "code",
      "metadata": {
        "id": "wGSDRsgade-b",
        "colab": {
          "base_uri": "https://localhost:8080/",
          "height": 249
        },
        "outputId": "9321d7db-f4b3-4fa8-ffbc-91c77523b2dd"
      },
      "source": [
        "inputDF.head()"
      ],
      "execution_count": null,
      "outputs": [
        {
          "output_type": "execute_result",
          "data": {
            "text/html": [
              "<div>\n",
              "<style scoped>\n",
              "    .dataframe tbody tr th:only-of-type {\n",
              "        vertical-align: middle;\n",
              "    }\n",
              "\n",
              "    .dataframe tbody tr th {\n",
              "        vertical-align: top;\n",
              "    }\n",
              "\n",
              "    .dataframe thead th {\n",
              "        text-align: right;\n",
              "    }\n",
              "</style>\n",
              "<table border=\"1\" class=\"dataframe\">\n",
              "  <thead>\n",
              "    <tr style=\"text-align: right;\">\n",
              "      <th></th>\n",
              "      <th>0</th>\n",
              "      <th>1</th>\n",
              "      <th>2</th>\n",
              "      <th>3</th>\n",
              "      <th>4</th>\n",
              "      <th>5</th>\n",
              "      <th>6</th>\n",
              "      <th>7</th>\n",
              "      <th>8</th>\n",
              "      <th>9</th>\n",
              "      <th>10</th>\n",
              "      <th>11</th>\n",
              "      <th>12</th>\n",
              "      <th>13</th>\n",
              "      <th>14</th>\n",
              "      <th>15</th>\n",
              "      <th>16</th>\n",
              "      <th>17</th>\n",
              "      <th>18</th>\n",
              "      <th>19</th>\n",
              "      <th>20</th>\n",
              "      <th>21</th>\n",
              "      <th>22</th>\n",
              "      <th>23</th>\n",
              "      <th>24</th>\n",
              "      <th>25</th>\n",
              "      <th>26</th>\n",
              "      <th>27</th>\n",
              "      <th>28</th>\n",
              "      <th>29</th>\n",
              "      <th>30</th>\n",
              "      <th>31</th>\n",
              "      <th>32</th>\n",
              "      <th>33</th>\n",
              "      <th>34</th>\n",
              "      <th>35</th>\n",
              "      <th>36</th>\n",
              "      <th>37</th>\n",
              "      <th>38</th>\n",
              "      <th>39</th>\n",
              "      <th>...</th>\n",
              "      <th>751</th>\n",
              "      <th>752</th>\n",
              "      <th>753</th>\n",
              "      <th>754</th>\n",
              "      <th>755</th>\n",
              "      <th>756</th>\n",
              "      <th>757</th>\n",
              "      <th>758</th>\n",
              "      <th>759</th>\n",
              "      <th>760</th>\n",
              "      <th>761</th>\n",
              "      <th>762</th>\n",
              "      <th>763</th>\n",
              "      <th>764</th>\n",
              "      <th>765</th>\n",
              "      <th>766</th>\n",
              "      <th>767</th>\n",
              "      <th>768</th>\n",
              "      <th>769</th>\n",
              "      <th>770</th>\n",
              "      <th>771</th>\n",
              "      <th>772</th>\n",
              "      <th>773</th>\n",
              "      <th>774</th>\n",
              "      <th>775</th>\n",
              "      <th>776</th>\n",
              "      <th>777</th>\n",
              "      <th>778</th>\n",
              "      <th>779</th>\n",
              "      <th>780</th>\n",
              "      <th>781</th>\n",
              "      <th>782</th>\n",
              "      <th>783</th>\n",
              "      <th>784</th>\n",
              "      <th>785</th>\n",
              "      <th>786</th>\n",
              "      <th>787</th>\n",
              "      <th>788</th>\n",
              "      <th>789</th>\n",
              "      <th>Relations</th>\n",
              "    </tr>\n",
              "  </thead>\n",
              "  <tbody>\n",
              "    <tr>\n",
              "      <th>0</th>\n",
              "      <td>0.0</td>\n",
              "      <td>0.0</td>\n",
              "      <td>0.0</td>\n",
              "      <td>0.0</td>\n",
              "      <td>0.0</td>\n",
              "      <td>0.0</td>\n",
              "      <td>1.0</td>\n",
              "      <td>0.0</td>\n",
              "      <td>0.0</td>\n",
              "      <td>0.0</td>\n",
              "      <td>0.0</td>\n",
              "      <td>0.0</td>\n",
              "      <td>0.0</td>\n",
              "      <td>0.0</td>\n",
              "      <td>0.0</td>\n",
              "      <td>0.0</td>\n",
              "      <td>0.0</td>\n",
              "      <td>0.0</td>\n",
              "      <td>0.0</td>\n",
              "      <td>0.0</td>\n",
              "      <td>0.0</td>\n",
              "      <td>0.0</td>\n",
              "      <td>0.0</td>\n",
              "      <td>0.0</td>\n",
              "      <td>0.0</td>\n",
              "      <td>0.0</td>\n",
              "      <td>1.0</td>\n",
              "      <td>0.0</td>\n",
              "      <td>0.0</td>\n",
              "      <td>0.0</td>\n",
              "      <td>0.0</td>\n",
              "      <td>0.0</td>\n",
              "      <td>0.0</td>\n",
              "      <td>0.0</td>\n",
              "      <td>0.0</td>\n",
              "      <td>0.0</td>\n",
              "      <td>0.0</td>\n",
              "      <td>0.0</td>\n",
              "      <td>0.0</td>\n",
              "      <td>0.0</td>\n",
              "      <td>...</td>\n",
              "      <td>0.0</td>\n",
              "      <td>0.0</td>\n",
              "      <td>0.0</td>\n",
              "      <td>0.0</td>\n",
              "      <td>0.0</td>\n",
              "      <td>0.0</td>\n",
              "      <td>0.0</td>\n",
              "      <td>0.0</td>\n",
              "      <td>0.0</td>\n",
              "      <td>0.0</td>\n",
              "      <td>0.0</td>\n",
              "      <td>0.0</td>\n",
              "      <td>0.0</td>\n",
              "      <td>0.0</td>\n",
              "      <td>0.0</td>\n",
              "      <td>0.0</td>\n",
              "      <td>0.0</td>\n",
              "      <td>0.0</td>\n",
              "      <td>0.0</td>\n",
              "      <td>0.0</td>\n",
              "      <td>0.0</td>\n",
              "      <td>0.0</td>\n",
              "      <td>0.0</td>\n",
              "      <td>0.0</td>\n",
              "      <td>0.0</td>\n",
              "      <td>0.0</td>\n",
              "      <td>0.0</td>\n",
              "      <td>0.0</td>\n",
              "      <td>0.0</td>\n",
              "      <td>0.0</td>\n",
              "      <td>0.0</td>\n",
              "      <td>0.0</td>\n",
              "      <td>0.0</td>\n",
              "      <td>0.0</td>\n",
              "      <td>0.0</td>\n",
              "      <td>0.0</td>\n",
              "      <td>0.0</td>\n",
              "      <td>0.0</td>\n",
              "      <td>2.0</td>\n",
              "      <td>1</td>\n",
              "    </tr>\n",
              "    <tr>\n",
              "      <th>1</th>\n",
              "      <td>0.0</td>\n",
              "      <td>0.0</td>\n",
              "      <td>0.0</td>\n",
              "      <td>0.0</td>\n",
              "      <td>0.0</td>\n",
              "      <td>0.0</td>\n",
              "      <td>1.0</td>\n",
              "      <td>0.0</td>\n",
              "      <td>0.0</td>\n",
              "      <td>0.0</td>\n",
              "      <td>0.0</td>\n",
              "      <td>0.0</td>\n",
              "      <td>0.0</td>\n",
              "      <td>0.0</td>\n",
              "      <td>0.0</td>\n",
              "      <td>0.0</td>\n",
              "      <td>0.0</td>\n",
              "      <td>0.0</td>\n",
              "      <td>0.0</td>\n",
              "      <td>0.0</td>\n",
              "      <td>0.0</td>\n",
              "      <td>0.0</td>\n",
              "      <td>0.0</td>\n",
              "      <td>1.0</td>\n",
              "      <td>0.0</td>\n",
              "      <td>0.0</td>\n",
              "      <td>0.0</td>\n",
              "      <td>0.0</td>\n",
              "      <td>0.0</td>\n",
              "      <td>0.0</td>\n",
              "      <td>0.0</td>\n",
              "      <td>0.0</td>\n",
              "      <td>0.0</td>\n",
              "      <td>0.0</td>\n",
              "      <td>0.0</td>\n",
              "      <td>0.0</td>\n",
              "      <td>0.0</td>\n",
              "      <td>0.0</td>\n",
              "      <td>0.0</td>\n",
              "      <td>0.0</td>\n",
              "      <td>...</td>\n",
              "      <td>0.0</td>\n",
              "      <td>0.0</td>\n",
              "      <td>0.0</td>\n",
              "      <td>0.0</td>\n",
              "      <td>0.0</td>\n",
              "      <td>0.0</td>\n",
              "      <td>0.0</td>\n",
              "      <td>0.0</td>\n",
              "      <td>0.0</td>\n",
              "      <td>0.0</td>\n",
              "      <td>0.0</td>\n",
              "      <td>0.0</td>\n",
              "      <td>0.0</td>\n",
              "      <td>0.0</td>\n",
              "      <td>0.0</td>\n",
              "      <td>0.0</td>\n",
              "      <td>0.0</td>\n",
              "      <td>0.0</td>\n",
              "      <td>0.0</td>\n",
              "      <td>0.0</td>\n",
              "      <td>0.0</td>\n",
              "      <td>0.0</td>\n",
              "      <td>0.0</td>\n",
              "      <td>0.0</td>\n",
              "      <td>0.0</td>\n",
              "      <td>0.0</td>\n",
              "      <td>0.0</td>\n",
              "      <td>0.0</td>\n",
              "      <td>0.0</td>\n",
              "      <td>0.0</td>\n",
              "      <td>0.0</td>\n",
              "      <td>0.0</td>\n",
              "      <td>0.0</td>\n",
              "      <td>0.0</td>\n",
              "      <td>0.0</td>\n",
              "      <td>0.0</td>\n",
              "      <td>0.0</td>\n",
              "      <td>0.0</td>\n",
              "      <td>4.0</td>\n",
              "      <td>8</td>\n",
              "    </tr>\n",
              "    <tr>\n",
              "      <th>2</th>\n",
              "      <td>0.0</td>\n",
              "      <td>0.0</td>\n",
              "      <td>0.0</td>\n",
              "      <td>0.0</td>\n",
              "      <td>0.0</td>\n",
              "      <td>0.0</td>\n",
              "      <td>1.0</td>\n",
              "      <td>0.0</td>\n",
              "      <td>0.0</td>\n",
              "      <td>0.0</td>\n",
              "      <td>0.0</td>\n",
              "      <td>0.0</td>\n",
              "      <td>0.0</td>\n",
              "      <td>0.0</td>\n",
              "      <td>0.0</td>\n",
              "      <td>0.0</td>\n",
              "      <td>0.0</td>\n",
              "      <td>0.0</td>\n",
              "      <td>0.0</td>\n",
              "      <td>0.0</td>\n",
              "      <td>0.0</td>\n",
              "      <td>0.0</td>\n",
              "      <td>0.0</td>\n",
              "      <td>1.0</td>\n",
              "      <td>0.0</td>\n",
              "      <td>0.0</td>\n",
              "      <td>0.0</td>\n",
              "      <td>0.0</td>\n",
              "      <td>0.0</td>\n",
              "      <td>0.0</td>\n",
              "      <td>0.0</td>\n",
              "      <td>0.0</td>\n",
              "      <td>0.0</td>\n",
              "      <td>0.0</td>\n",
              "      <td>0.0</td>\n",
              "      <td>0.0</td>\n",
              "      <td>0.0</td>\n",
              "      <td>0.0</td>\n",
              "      <td>0.0</td>\n",
              "      <td>0.0</td>\n",
              "      <td>...</td>\n",
              "      <td>0.0</td>\n",
              "      <td>0.0</td>\n",
              "      <td>0.0</td>\n",
              "      <td>0.0</td>\n",
              "      <td>0.0</td>\n",
              "      <td>0.0</td>\n",
              "      <td>0.0</td>\n",
              "      <td>0.0</td>\n",
              "      <td>0.0</td>\n",
              "      <td>0.0</td>\n",
              "      <td>0.0</td>\n",
              "      <td>0.0</td>\n",
              "      <td>0.0</td>\n",
              "      <td>0.0</td>\n",
              "      <td>0.0</td>\n",
              "      <td>0.0</td>\n",
              "      <td>0.0</td>\n",
              "      <td>0.0</td>\n",
              "      <td>0.0</td>\n",
              "      <td>0.0</td>\n",
              "      <td>0.0</td>\n",
              "      <td>0.0</td>\n",
              "      <td>0.0</td>\n",
              "      <td>0.0</td>\n",
              "      <td>0.0</td>\n",
              "      <td>0.0</td>\n",
              "      <td>0.0</td>\n",
              "      <td>0.0</td>\n",
              "      <td>0.0</td>\n",
              "      <td>0.0</td>\n",
              "      <td>0.0</td>\n",
              "      <td>0.0</td>\n",
              "      <td>0.0</td>\n",
              "      <td>0.0</td>\n",
              "      <td>0.0</td>\n",
              "      <td>0.0</td>\n",
              "      <td>0.0</td>\n",
              "      <td>0.0</td>\n",
              "      <td>2.0</td>\n",
              "      <td>5</td>\n",
              "    </tr>\n",
              "    <tr>\n",
              "      <th>3</th>\n",
              "      <td>0.0</td>\n",
              "      <td>0.0</td>\n",
              "      <td>0.0</td>\n",
              "      <td>0.0</td>\n",
              "      <td>0.0</td>\n",
              "      <td>0.0</td>\n",
              "      <td>1.0</td>\n",
              "      <td>0.0</td>\n",
              "      <td>0.0</td>\n",
              "      <td>0.0</td>\n",
              "      <td>0.0</td>\n",
              "      <td>0.0</td>\n",
              "      <td>0.0</td>\n",
              "      <td>0.0</td>\n",
              "      <td>0.0</td>\n",
              "      <td>0.0</td>\n",
              "      <td>0.0</td>\n",
              "      <td>0.0</td>\n",
              "      <td>0.0</td>\n",
              "      <td>0.0</td>\n",
              "      <td>0.0</td>\n",
              "      <td>0.0</td>\n",
              "      <td>0.0</td>\n",
              "      <td>1.0</td>\n",
              "      <td>0.0</td>\n",
              "      <td>0.0</td>\n",
              "      <td>0.0</td>\n",
              "      <td>0.0</td>\n",
              "      <td>0.0</td>\n",
              "      <td>0.0</td>\n",
              "      <td>0.0</td>\n",
              "      <td>0.0</td>\n",
              "      <td>0.0</td>\n",
              "      <td>0.0</td>\n",
              "      <td>0.0</td>\n",
              "      <td>0.0</td>\n",
              "      <td>0.0</td>\n",
              "      <td>0.0</td>\n",
              "      <td>0.0</td>\n",
              "      <td>0.0</td>\n",
              "      <td>...</td>\n",
              "      <td>0.0</td>\n",
              "      <td>0.0</td>\n",
              "      <td>0.0</td>\n",
              "      <td>0.0</td>\n",
              "      <td>0.0</td>\n",
              "      <td>0.0</td>\n",
              "      <td>0.0</td>\n",
              "      <td>0.0</td>\n",
              "      <td>0.0</td>\n",
              "      <td>0.0</td>\n",
              "      <td>0.0</td>\n",
              "      <td>0.0</td>\n",
              "      <td>0.0</td>\n",
              "      <td>0.0</td>\n",
              "      <td>0.0</td>\n",
              "      <td>0.0</td>\n",
              "      <td>0.0</td>\n",
              "      <td>0.0</td>\n",
              "      <td>0.0</td>\n",
              "      <td>0.0</td>\n",
              "      <td>0.0</td>\n",
              "      <td>0.0</td>\n",
              "      <td>0.0</td>\n",
              "      <td>0.0</td>\n",
              "      <td>0.0</td>\n",
              "      <td>0.0</td>\n",
              "      <td>0.0</td>\n",
              "      <td>0.0</td>\n",
              "      <td>0.0</td>\n",
              "      <td>0.0</td>\n",
              "      <td>0.0</td>\n",
              "      <td>0.0</td>\n",
              "      <td>0.0</td>\n",
              "      <td>0.0</td>\n",
              "      <td>0.0</td>\n",
              "      <td>0.0</td>\n",
              "      <td>0.0</td>\n",
              "      <td>0.0</td>\n",
              "      <td>3.0</td>\n",
              "      <td>8</td>\n",
              "    </tr>\n",
              "    <tr>\n",
              "      <th>4</th>\n",
              "      <td>0.0</td>\n",
              "      <td>0.0</td>\n",
              "      <td>0.0</td>\n",
              "      <td>0.0</td>\n",
              "      <td>0.0</td>\n",
              "      <td>0.0</td>\n",
              "      <td>1.0</td>\n",
              "      <td>0.0</td>\n",
              "      <td>0.0</td>\n",
              "      <td>0.0</td>\n",
              "      <td>0.0</td>\n",
              "      <td>0.0</td>\n",
              "      <td>0.0</td>\n",
              "      <td>0.0</td>\n",
              "      <td>0.0</td>\n",
              "      <td>0.0</td>\n",
              "      <td>0.0</td>\n",
              "      <td>0.0</td>\n",
              "      <td>0.0</td>\n",
              "      <td>0.0</td>\n",
              "      <td>0.0</td>\n",
              "      <td>0.0</td>\n",
              "      <td>0.0</td>\n",
              "      <td>1.0</td>\n",
              "      <td>0.0</td>\n",
              "      <td>0.0</td>\n",
              "      <td>0.0</td>\n",
              "      <td>0.0</td>\n",
              "      <td>0.0</td>\n",
              "      <td>0.0</td>\n",
              "      <td>0.0</td>\n",
              "      <td>0.0</td>\n",
              "      <td>0.0</td>\n",
              "      <td>0.0</td>\n",
              "      <td>0.0</td>\n",
              "      <td>0.0</td>\n",
              "      <td>0.0</td>\n",
              "      <td>0.0</td>\n",
              "      <td>0.0</td>\n",
              "      <td>0.0</td>\n",
              "      <td>...</td>\n",
              "      <td>0.0</td>\n",
              "      <td>0.0</td>\n",
              "      <td>0.0</td>\n",
              "      <td>0.0</td>\n",
              "      <td>0.0</td>\n",
              "      <td>0.0</td>\n",
              "      <td>0.0</td>\n",
              "      <td>0.0</td>\n",
              "      <td>0.0</td>\n",
              "      <td>0.0</td>\n",
              "      <td>0.0</td>\n",
              "      <td>0.0</td>\n",
              "      <td>0.0</td>\n",
              "      <td>0.0</td>\n",
              "      <td>0.0</td>\n",
              "      <td>0.0</td>\n",
              "      <td>0.0</td>\n",
              "      <td>0.0</td>\n",
              "      <td>0.0</td>\n",
              "      <td>0.0</td>\n",
              "      <td>0.0</td>\n",
              "      <td>0.0</td>\n",
              "      <td>0.0</td>\n",
              "      <td>0.0</td>\n",
              "      <td>0.0</td>\n",
              "      <td>0.0</td>\n",
              "      <td>0.0</td>\n",
              "      <td>0.0</td>\n",
              "      <td>0.0</td>\n",
              "      <td>0.0</td>\n",
              "      <td>0.0</td>\n",
              "      <td>0.0</td>\n",
              "      <td>0.0</td>\n",
              "      <td>0.0</td>\n",
              "      <td>0.0</td>\n",
              "      <td>0.0</td>\n",
              "      <td>0.0</td>\n",
              "      <td>0.0</td>\n",
              "      <td>1.0</td>\n",
              "      <td>6</td>\n",
              "    </tr>\n",
              "  </tbody>\n",
              "</table>\n",
              "<p>5 rows × 791 columns</p>\n",
              "</div>"
            ],
            "text/plain": [
              "     0    1    2    3    4    5    6  ...  784  785  786  787  788  789  Relations\n",
              "0  0.0  0.0  0.0  0.0  0.0  0.0  1.0  ...  0.0  0.0  0.0  0.0  0.0  2.0          1\n",
              "1  0.0  0.0  0.0  0.0  0.0  0.0  1.0  ...  0.0  0.0  0.0  0.0  0.0  4.0          8\n",
              "2  0.0  0.0  0.0  0.0  0.0  0.0  1.0  ...  0.0  0.0  0.0  0.0  0.0  2.0          5\n",
              "3  0.0  0.0  0.0  0.0  0.0  0.0  1.0  ...  0.0  0.0  0.0  0.0  0.0  3.0          8\n",
              "4  0.0  0.0  0.0  0.0  0.0  0.0  1.0  ...  0.0  0.0  0.0  0.0  0.0  1.0          6\n",
              "\n",
              "[5 rows x 791 columns]"
            ]
          },
          "metadata": {
            "tags": []
          },
          "execution_count": 106
        }
      ]
    },
    {
      "cell_type": "markdown",
      "metadata": {
        "id": "c25Eq0JCeROJ"
      },
      "source": [
        "Model"
      ]
    },
    {
      "cell_type": "code",
      "metadata": {
        "id": "S_oDGnlOdqCY",
        "colab": {
          "base_uri": "https://localhost:8080/"
        },
        "outputId": "236ff4cc-c8a8-41ba-97ed-f06348af32d3"
      },
      "source": [
        "X = inputDF.iloc[:,:-1]\n",
        "y = inputDF.iloc[:,-1]\n",
        "\n",
        "from sklearn.model_selection import train_test_split\n",
        "\n",
        "X_train, X_test, y_train, y_test = train_test_split(X, y, test_size=0.3, random_state=123)\n",
        "from sklearn.naive_bayes import BernoulliNB\n",
        "clf = BernoulliNB()\n",
        "\n",
        "y_pred = clf.fit(X_train, y_train).predict(X_test)\n",
        "print(\"Number of mislabeled points out of a total %d points : %d\"\n",
        "      % (X_test.shape[0], (y_test != y_pred).sum()))"
      ],
      "execution_count": null,
      "outputs": [
        {
          "output_type": "stream",
          "text": [
            "Number of mislabeled points out of a total 2400 points : 1443\n"
          ],
          "name": "stdout"
        }
      ]
    },
    {
      "cell_type": "code",
      "metadata": {
        "id": "lwoBGvMSeHxV"
      },
      "source": [
        "y_pred = clf.predict(X)"
      ],
      "execution_count": null,
      "outputs": []
    },
    {
      "cell_type": "code",
      "metadata": {
        "colab": {
          "base_uri": "https://localhost:8080/"
        },
        "id": "a0v5kpdZfRGH",
        "outputId": "41d98db0-db37-4774-83c4-7c69b5d811d9"
      },
      "source": [
        "from sklearn.metrics import accuracy_score\n",
        "accuracy_score(y, y_pred)"
      ],
      "execution_count": null,
      "outputs": [
        {
          "output_type": "execute_result",
          "data": {
            "text/plain": [
              "0.434375"
            ]
          },
          "metadata": {
            "tags": []
          },
          "execution_count": 109
        }
      ]
    },
    {
      "cell_type": "code",
      "metadata": {
        "id": "M1SVn2-mn_Bz"
      },
      "source": [
        ""
      ],
      "execution_count": null,
      "outputs": []
    },
    {
      "cell_type": "code",
      "metadata": {
        "id": "PabzZ0mh_Yx4"
      },
      "source": [
        ""
      ],
      "execution_count": null,
      "outputs": []
    },
    {
      "cell_type": "code",
      "metadata": {
        "id": "Gcob2hT8q1WW"
      },
      "source": [
        ""
      ],
      "execution_count": null,
      "outputs": []
    }
  ]
}